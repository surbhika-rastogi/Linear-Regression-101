{
  "cells": [
    {
      "cell_type": "markdown",
      "metadata": {
        "deletable": false,
        "editable": false,
        "nbgrader": {
          "cell_type": "markdown",
          "checksum": "2a747369b91572b4ada4e32643e31bca",
          "grade": false,
          "grade_id": "Title",
          "locked": true,
          "schema_version": 3,
          "solution": false,
          "task": false
        },
        "id": "iMZkpFaZgDlC"
      },
      "source": [
        "#**EE769 Introduction to Machine Learning**\n",
        "\n",
        "#Assignment 1: Gradient Descent, Linear Regression, and Regularization\n",
        "\n",
        "\n",
        "**Template and Instructions**\n",
        "\n",
        "\n",
        "\n",
        "1. Up to two people can team up, but only one should submit, and both should understand the entire code.\n",
        "2. Every line of code should end in a comment explaining the line\n",
        "3. It is recommended to solve the assignment in Google Colab.\n",
        "Write your roll no.s separated by commas here: \n",
        "4. Write your names here: \n",
        "5. There are two parts to the assignment. In the Part 1, the code format has to be strictly followed to enable auto-grading. In the second part, you can be creative.\n",
        "6. **You can discuss with other groups or refer to the internet without being penalized, but you cannot copy their code and modify it. Write every line of code and comment on your own.**"
      ]
    },
    {
      "cell_type": "markdown",
      "metadata": {
        "deletable": false,
        "editable": false,
        "nbgrader": {
          "cell_type": "markdown",
          "checksum": "cae69541658b406d495bcffe0b7c0932",
          "grade": false,
          "grade_id": "cell-aa1aa8c8181f8810",
          "locked": true,
          "schema_version": 3,
          "solution": false,
          "task": false
        },
        "id": "vLSws5AwgDlF"
      },
      "source": [
        "#**Part 1 begins ...**\n",
        "**Instructions to be strictly followed:**\n",
        "\n",
        "1. Do not add any code cells or markdown cells until the end of this part. Especially, do not change the blocks that say \"TEST CASES, DO NOT CHANGE\"\n",
        "2. In all other cells only add code where it says \"CODE HERE\".\n",
        "3. If you encounter any raise NotImplementedError() calls you may comment them out.\n",
        "\n",
        "We cannot ensure correct grading if you change anything else, and you may be penalised for not following these instructions."
      ]
    },
    {
      "cell_type": "markdown",
      "metadata": {
        "deletable": false,
        "editable": false,
        "nbgrader": {
          "cell_type": "markdown",
          "checksum": "0ecbf8e96219ab11b7716eaae61cb7f9",
          "grade": false,
          "grade_id": "cell-1e940101f37c7af2",
          "locked": true,
          "schema_version": 3,
          "solution": false,
          "task": false
        },
        "id": "mszh1OSFgDlF"
      },
      "source": [
        "## Import Statements"
      ]
    },
    {
      "cell_type": "code",
      "execution_count": 63,
      "metadata": {
        "deletable": false,
        "editable": false,
        "nbgrader": {
          "cell_type": "code",
          "checksum": "fe70877a859ee0a10e9d591778022f8a",
          "grade": false,
          "grade_id": "Import_Statements",
          "locked": true,
          "schema_version": 3,
          "solution": false,
          "task": false
        },
        "id": "KZ-3pQQpgDlG"
      },
      "outputs": [],
      "source": [
        "import numpy as np\n",
        "import pandas as pd\n",
        "from matplotlib import pyplot as plt\n"
      ]
    },
    {
      "cell_type": "markdown",
      "metadata": {
        "deletable": false,
        "editable": false,
        "nbgrader": {
          "cell_type": "markdown",
          "checksum": "e36a214573fc40f26b45e72215d61375",
          "grade": false,
          "grade_id": "Normalize_Title",
          "locked": true,
          "schema_version": 3,
          "solution": false,
          "task": false
        },
        "id": "LmYsuV4zgDlH"
      },
      "source": [
        "## Normalize function \n",
        "\n"
      ]
    },
    {
      "cell_type": "code",
      "execution_count": 64,
      "metadata": {
        "deletable": false,
        "nbgrader": {
          "cell_type": "code",
          "checksum": "42293dda356d746ac19e9b6d81106261",
          "grade": false,
          "grade_id": "Normalize_Function",
          "locked": false,
          "schema_version": 3,
          "solution": true,
          "task": false
        },
        "id": "LnYoCbiHgDlH"
      },
      "outputs": [],
      "source": [
        "def Normalize(X): # Output should be a normalized data matrix of the same dimension\n",
        "    '''\n",
        "    Normalize all columns of X using mean and standard deviation\n",
        "    '''\n",
        "    # YOUR CODE HERE\n",
        "    X= (np.array(X)).astype(np.float) #convert to float type\n",
        "    if X.ndim == 1: #for 1D array, no need of for loop\n",
        "      col = 1\n",
        "      mean = np.mean(X)\n",
        "      sigma = np.std(X)\n",
        "      X = (X-mean)/sigma #assuming gaussian distribution\n",
        "    else:\n",
        "      col = np.shape(X)[1]\n",
        "      for i in range(col): #iterate over all columns in X\n",
        "        mean = np.mean(X[:,i])  \n",
        "        sigma = np.std(X[:,i])\n",
        "        X[:,i] = (X[:,i]-mean)/sigma #assuming gaussian distribution for each column\n",
        "    return X\n",
        "    raise NotImplementedError()"
      ]
    },
    {
      "cell_type": "code",
      "execution_count": 65,
      "metadata": {
        "deletable": false,
        "editable": false,
        "nbgrader": {
          "cell_type": "code",
          "checksum": "7797dd606a68f028c945acd08850d108",
          "grade": true,
          "grade_id": "Normalize_Test",
          "locked": true,
          "points": 5,
          "schema_version": 3,
          "solution": false,
          "task": false
        },
        "id": "pYO5oXQbgDlI"
      },
      "outputs": [],
      "source": [
        "'''\n",
        "TEST CASES, DO NOT CHANGE\n",
        "'''\n",
        "''' case 1 - 1 dimensional array'''\n",
        "#X=np.array([[1,2,3],[3,4,5],[7,8,9]])\n",
        "X1=np.array([1,2,3])\n",
        "np.testing.assert_array_almost_equal(Normalize(X1),np.array([-1.224,  0.      ,  1.224]),decimal=3)\n",
        "''' case 2 - 2 dimensional array'''\n",
        "X2=np.array([[4,7,6],[3,8,9],[5,11,10]])\n",
        "np.testing.assert_array_almost_equal(Normalize(X2),np.array([[ 0.  , -0.980581, -1.372813],[-1.224745, -0.392232,  0.392232],[ 1.224745,  1.372813,  0.980581]]))\n",
        "''' case 3 - 1 dimensional array with float'''\n",
        "X3=np.array([5.5,6.7,3.2,6.7])\n",
        "np.testing.assert_array_almost_equal(Normalize(X3),np.array([-0.017,  0.822, -1.627,  0.822]),decimal=3)"
      ]
    },
    {
      "cell_type": "markdown",
      "metadata": {
        "deletable": false,
        "editable": false,
        "nbgrader": {
          "cell_type": "markdown",
          "checksum": "63ee774a26a0438a0b2f5ec298eac80e",
          "grade": false,
          "grade_id": "cell-66ab98f84d3c58fa",
          "locked": true,
          "schema_version": 3,
          "solution": false,
          "task": false
        },
        "id": "2e1bNJ0sgDlI"
      },
      "source": [
        "## Prediction Function\n",
        "\n",
        "Given X and w, compute the predicted output. Do not forget to add 1's in X"
      ]
    },
    {
      "cell_type": "code",
      "execution_count": 66,
      "metadata": {
        "deletable": false,
        "nbgrader": {
          "cell_type": "code",
          "checksum": "5976e32bd96bc4bdc2b2efd61e98441c",
          "grade": false,
          "grade_id": "Prediction",
          "locked": false,
          "schema_version": 3,
          "solution": true,
          "task": false
        },
        "id": "ffKdGKAAgDlJ"
      },
      "outputs": [],
      "source": [
        "def Prediction (X, w): # Output should be a prediction vector y\n",
        "    '''\n",
        "    Compute Prediction given an input datamatrix X and weight vecor w. Output y = [X 1]w where 1 is a vector of all 1s \n",
        "    '''\n",
        "    # YOUR CODE HERE\n",
        "    X_col = X.shape[1]\n",
        "    w_len = len(w)\n",
        "    for i in range(w_len - X_col): #if there are non-zero bias weights present in w, then add equivalent number of 'ones' columns in X\n",
        "      X = np.c_[X, np.ones(X.shape[0])]\n",
        "\n",
        "    return np.dot(X, w) #y = w[X]\n",
        "    raise NotImplementedError()\n"
      ]
    },
    {
      "cell_type": "code",
      "execution_count": 67,
      "metadata": {
        "deletable": false,
        "editable": false,
        "nbgrader": {
          "cell_type": "code",
          "checksum": "741f088432fb2ac3c49d3c9711d5c9c5",
          "grade": true,
          "grade_id": "PredictionTest",
          "locked": true,
          "points": 5,
          "schema_version": 3,
          "solution": false,
          "task": false
        },
        "id": "8l1IPtxOgDlK"
      },
      "outputs": [],
      "source": [
        "'''\n",
        "TEST CASES, DO NOT CHANGE\n",
        "'''\n",
        "''' case 1 - Known input output matrix and weights 1'''\n",
        "X1 = np.array([[3,2],[1,1]])\n",
        "w1 = np.array([2,1,1]) \n",
        "np.testing.assert_array_equal(Prediction(X1,w1),np.array([9,4]))\n"
      ]
    },
    {
      "cell_type": "markdown",
      "metadata": {
        "deletable": false,
        "editable": false,
        "nbgrader": {
          "cell_type": "markdown",
          "checksum": "227f6e0da2f8c6d631599c44041e3b65",
          "grade": false,
          "grade_id": "cell-6fda2832d5967072",
          "locked": true,
          "schema_version": 3,
          "solution": false,
          "task": false
        },
        "id": "RhBNlLnagDlK"
      },
      "source": [
        "## Loss Functions\n",
        "\n",
        "Code the four  loss functions:\n",
        "\n",
        "1. MSE loss is only for the error\n",
        "2. MAE loss is only for the error\n",
        "3. L2 loss is for MSE and L2 regularization, and can call MSE loss\n",
        "4. L1 loss is for MSE and L1 regularization, and can call MSE loss"
      ]
    },
    {
      "cell_type": "code",
      "execution_count": 68,
      "metadata": {
        "deletable": false,
        "nbgrader": {
          "cell_type": "code",
          "checksum": "2c3e17b8559f0dfdfecdc8d242aba152",
          "grade": false,
          "grade_id": "MSE_Loss",
          "locked": false,
          "schema_version": 3,
          "solution": true,
          "task": false
        },
        "id": "zX5aP5BJgDlL"
      },
      "outputs": [],
      "source": [
        "def MSE_Loss (X, t, w, lamda =0): # Ouput should be a single number\n",
        "    '''\n",
        "    lamda=0 is a default argument to prevent errors if you pass lamda to a function that doesn't need it by mistake. \n",
        "    This allows us to call all loss functions with the same input format.\n",
        "    \n",
        "    You are encouraged read about default arguments by yourself online if you're not familiar.\n",
        "    '''\n",
        "    # YOUR CODE HERE\n",
        "    y = Prediction(X,w) #prediction value\n",
        "    mse = (np.sum((y-t)**2))/(y.size) #mse is the average/mean of square of error in predicted and target value\n",
        "    return mse\n",
        "    raise NotImplementedError()"
      ]
    },
    {
      "cell_type": "code",
      "execution_count": 69,
      "metadata": {
        "deletable": false,
        "editable": false,
        "nbgrader": {
          "cell_type": "code",
          "checksum": "923a1372a401b41d6ef6b0749a49ff66",
          "grade": true,
          "grade_id": "MSE_Loss_Test",
          "locked": true,
          "points": 2,
          "schema_version": 3,
          "solution": false,
          "task": false
        },
        "id": "lfiWIQCigDlL"
      },
      "outputs": [],
      "source": [
        "'''\n",
        "TEST CASES, DO NOT CHANGE\n",
        "'''\n",
        "''' case 1 '''\n",
        "X=np.array([[3,6,5],[4.5,6.6,6]])\n",
        "t=np.array([4,5.5])\n",
        "w=np.array([2,-1,0.5,1])\n",
        "np.testing.assert_almost_equal(MSE_Loss(X,t,w),0.53,decimal=3)\n"
      ]
    },
    {
      "cell_type": "code",
      "execution_count": 70,
      "metadata": {
        "deletable": false,
        "nbgrader": {
          "cell_type": "code",
          "checksum": "b0b3b381c7a3ac5d7dfbb5df647c0d85",
          "grade": false,
          "grade_id": "MAE_Loss",
          "locked": false,
          "schema_version": 3,
          "solution": true,
          "task": false
        },
        "id": "5-UGNgS6gDlM"
      },
      "outputs": [],
      "source": [
        "def MAE_Loss (X, t, w, lamda = 0): # Output should be a single number\n",
        "    # YOUR CODE HERE\n",
        "    y = Prediction(X,w) #prediction value\n",
        "    mae = (np.sum(np.absolute(y-t)))/(y.size) #mae is mean/avaerage of absolute value of error between predicted and actual value\n",
        "    return mae\n",
        "    raise NotImplementedError()"
      ]
    },
    {
      "cell_type": "code",
      "execution_count": 71,
      "metadata": {
        "deletable": false,
        "editable": false,
        "nbgrader": {
          "cell_type": "code",
          "checksum": "f11d5fde7220893a9809f2954d18c5e5",
          "grade": true,
          "grade_id": "MAE_Loss_Test",
          "locked": true,
          "points": 2,
          "schema_version": 3,
          "solution": false,
          "task": false
        },
        "id": "Iuq7aNypgDlM"
      },
      "outputs": [],
      "source": [
        "'''\n",
        "TEST CASES, DO NOT CHANGE\n",
        "'''\n",
        "''' case 1 '''\n",
        "X=np.array([[3,6,5],[4.5,6.6,6]])\n",
        "t=np.array([4,5.5])\n",
        "w=np.array([2,-1,0.5,1])\n",
        "np.testing.assert_almost_equal(MAE_Loss(X,t,w),0.700,decimal=3)\n"
      ]
    },
    {
      "cell_type": "code",
      "execution_count": 72,
      "metadata": {
        "deletable": false,
        "nbgrader": {
          "cell_type": "code",
          "checksum": "a8309762ea56bb6b24bbbf4a19cb16bc",
          "grade": false,
          "grade_id": "L2_Loss",
          "locked": false,
          "schema_version": 3,
          "solution": true,
          "task": false
        },
        "id": "s5PStDyIgDlM"
      },
      "outputs": [],
      "source": [
        "def L2_Loss (X, t, w, lamda): # Output should be a single number based on L2-norm (with sqrt)\n",
        "    ''' Need to specify what inputs are'''\n",
        "    # YOUR CODE HERE\n",
        "    mse = MSE_Loss(X, t, w) #mse loss\n",
        "    mse_L2 = mse + (lamda * np.sqrt(np.sum(w[:-1]**2))) #L2 regularization is lamda times sum of square weight vectors without bias\n",
        "    return mse_L2\n",
        "    raise NotImplementedError()"
      ]
    },
    {
      "cell_type": "code",
      "execution_count": 73,
      "metadata": {
        "deletable": false,
        "editable": false,
        "nbgrader": {
          "cell_type": "code",
          "checksum": "a5a409056f6797cdf8cbfab61b138c37",
          "grade": true,
          "grade_id": "L2_Loss_Test",
          "locked": true,
          "points": 2,
          "schema_version": 3,
          "solution": false,
          "task": false
        },
        "id": "C33kGXVsgDlM"
      },
      "outputs": [],
      "source": [
        "'''\n",
        "TEST CASES, DO NOT CHANGE\n",
        "'''\n",
        "''' case 1 '''\n",
        "X=np.array([[3,6,5],[4.5,6.6,6]])\n",
        "t=np.array([4,5.5])\n",
        "w=np.array([2,-1,0.5,1])\n",
        "np.testing.assert_almost_equal(L2_Loss(X,t,w,0.5),1.675,decimal=3)\n"
      ]
    },
    {
      "cell_type": "code",
      "execution_count": 74,
      "metadata": {
        "deletable": false,
        "nbgrader": {
          "cell_type": "code",
          "checksum": "1af69c123815524cdc71c72e09ece638",
          "grade": false,
          "grade_id": "L1_Loss",
          "locked": false,
          "schema_version": 3,
          "solution": true,
          "task": false
        },
        "id": "OAEs8uj6gDlN"
      },
      "outputs": [],
      "source": [
        "def L1_Loss (X, t, w, lamda): # Output should be a single number\n",
        "    # YOUR CODE HERE\n",
        "    mse = MSE_Loss(X, t, w) #mse loss\n",
        "    mse_L1 = mse + (lamda * (np.sum(np.absolute(w[:-1])))) #L1 regularization is lamda times sum of absolute weight vectors without bias\n",
        "    return mse_L1\n",
        "    raise NotImplementedError()"
      ]
    },
    {
      "cell_type": "code",
      "execution_count": 75,
      "metadata": {
        "deletable": false,
        "editable": false,
        "nbgrader": {
          "cell_type": "code",
          "checksum": "40224dd69dd8e6499a67271c33701bf4",
          "grade": true,
          "grade_id": "L1_Loss_Test",
          "locked": true,
          "points": 2,
          "schema_version": 3,
          "solution": false,
          "task": false
        },
        "id": "ByhV5MTSgDlN"
      },
      "outputs": [],
      "source": [
        "'''\n",
        "TEST CASES, DO NOT CHANGE\n",
        "'''\n",
        "''' case 1 '''\n",
        "X=np.array([[3,6,5],[4.5,6.6,6]])\n",
        "t=np.array([4,5.5])\n",
        "w=np.array([2,-1,0.5,1])\n",
        "np.testing.assert_almost_equal(L1_Loss(X,t,w,0.5),2.280,decimal=3)\n"
      ]
    },
    {
      "cell_type": "code",
      "execution_count": 76,
      "metadata": {
        "deletable": false,
        "nbgrader": {
          "cell_type": "code",
          "checksum": "855bd2ded492e567b20f1d9705d9a97a",
          "grade": false,
          "grade_id": "NRMSE_Metric",
          "locked": false,
          "schema_version": 3,
          "solution": true,
          "task": false
        },
        "id": "CIQnUDurgDlN"
      },
      "outputs": [],
      "source": [
        "def NRMSE_Metric (X, t, w, lamda=0): # Output should be a single number. RMSE/std_dev(t)\n",
        "    # YOUR CODE HERE\n",
        "    mse = MSE_Loss (X, t, w) #mse loss\n",
        "    y = Prediction(X,w) #predicted values\n",
        "    nrmse = np.sqrt(mse)/np.std(t) #normalised mean square error\n",
        "    return nrmse\n",
        "    raise NotImplementedError()"
      ]
    },
    {
      "cell_type": "code",
      "execution_count": 77,
      "metadata": {
        "deletable": false,
        "editable": false,
        "nbgrader": {
          "cell_type": "code",
          "checksum": "256795799ceb6dfa0b32ab75e8ef30c4",
          "grade": true,
          "grade_id": "NRMSE_Metric_Test",
          "locked": true,
          "points": 2,
          "schema_version": 3,
          "solution": false,
          "task": false
        },
        "id": "EYkHkdVLgDlO"
      },
      "outputs": [],
      "source": [
        "'''\n",
        "TEST CASES, DO NOT CHANGE\n",
        "'''\n",
        "''' Test case 1 '''\n",
        "X=np.array([[3,6,5],[4.5,6.6,6]])\n",
        "t=np.array([4,5.5])\n",
        "w=np.array([2,-1,0.5,1])\n",
        "np.testing.assert_almost_equal(NRMSE_Metric(X,t,w,0.5),0.970,decimal=3)\n"
      ]
    },
    {
      "cell_type": "markdown",
      "metadata": {
        "deletable": false,
        "editable": false,
        "nbgrader": {
          "cell_type": "markdown",
          "checksum": "cc5df30e29bbe17d4bc7aa89210eb5cf",
          "grade": false,
          "grade_id": "Gradient_Title",
          "locked": true,
          "schema_version": 3,
          "solution": false,
          "task": false
        },
        "id": "9IblTtHtgDlO"
      },
      "source": [
        "## Gradient function\n",
        "Each Loss function will have its own gradient function:\n",
        "\n",
        "1. MSE gradient is only for the error\n",
        "2. MAE gradient is only for the error\n",
        "3. L2 gradient is for MSE and L2 regularization, and can call MSE gradient\n",
        "4. L1 gradient is for MSE and L1 regularization, and can call MSE gradient"
      ]
    },
    {
      "cell_type": "code",
      "execution_count": 78,
      "metadata": {
        "deletable": false,
        "nbgrader": {
          "cell_type": "code",
          "checksum": "0190492ee216edce701f93e697572fc1",
          "grade": false,
          "grade_id": "MSE_Gradient",
          "locked": false,
          "schema_version": 3,
          "solution": true,
          "task": false
        },
        "id": "gpJNczQAgDlO"
      },
      "outputs": [],
      "source": [
        "def MSE_Gradient (X, t, w, lamda=0): # Output should have the same size as w\n",
        "    # YOUR CODE HERE\n",
        "    # reference for formula: https://math.stackexchange.com/questions/1962877/compute-the-gradient-of-mean-square-error\n",
        "    y = Prediction(X,w) #predicted value\n",
        "    e = t - y #error differenc in target and predicted value\n",
        "\n",
        "    X_col = X.shape[1]\n",
        "    w_len = len(w)\n",
        "\n",
        "    for i in range(w_len - X_col): \n",
        "      #if there are non-zero bias weights present in w, then add equivalent number of 'ones' columns in X\n",
        "      X = np.c_[X, np.ones(X.shape[0])]\n",
        "\n",
        "    grad = -2* np.dot((np.transpose(X)),e)/y.size #gradient = (X'.e)/n\n",
        "    \n",
        "    return grad\n",
        "    raise NotImplementedError()"
      ]
    },
    {
      "cell_type": "code",
      "execution_count": 79,
      "metadata": {
        "deletable": false,
        "editable": false,
        "nbgrader": {
          "cell_type": "code",
          "checksum": "d61466927592a8776a8bfa688472bad4",
          "grade": true,
          "grade_id": "MSE_Gradient_Test",
          "locked": true,
          "points": 3,
          "schema_version": 3,
          "solution": false,
          "task": false
        },
        "id": "Ba9EbLPggDlO"
      },
      "outputs": [],
      "source": [
        "'''\n",
        "TEST CASES, DO NOT CHANGE\n",
        "'''\n",
        "''' case 1 '''\n",
        "X=np.array([[3,6,5],[4.5,6.6,6]])\n",
        "t=np.array([4,5.5])\n",
        "w=np.array([2,-1,0.5,1])\n",
        "np.testing.assert_array_almost_equal(MSE_Gradient(X,t,w),np.array([2.55, 2.94, 2.9 , 0.4 ]),decimal=3)\n"
      ]
    },
    {
      "cell_type": "code",
      "execution_count": 80,
      "metadata": {
        "deletable": false,
        "nbgrader": {
          "cell_type": "code",
          "checksum": "49cc4e37cafad52f41853b4b0e71f89f",
          "grade": false,
          "grade_id": "MAE_Gradient",
          "locked": false,
          "schema_version": 3,
          "solution": true,
          "task": false
        },
        "id": "GIqsAd7XgDlP"
      },
      "outputs": [],
      "source": [
        "def MAE_Gradient (X, t, w, lamda=0): # Output should have the same size as w\n",
        "    # YOUR CODE HERE\n",
        "    y = Prediction(X,w)\n",
        "    X_col = X.shape[1]\n",
        "    w_len = len(w)\n",
        "    for i in range(w_len - X_col):\n",
        "      #if there are non-zero bias weights present in w, then add equivalent number of 'ones' columns in X\n",
        "      X = np.c_[X, np.ones(X.shape[0])]\n",
        "\n",
        "    grad_y = -0.5*np.sign(t-y) #grad w.r.t. y = - sigmoid function of error/2\n",
        "    grad_w = np.dot(grad_y, X) #grad w.r.t weight = (grad w.r.t. y).X\n",
        "    return grad_w\n",
        "    raise NotImplementedError()"
      ]
    },
    {
      "cell_type": "code",
      "execution_count": 81,
      "metadata": {
        "deletable": false,
        "editable": false,
        "nbgrader": {
          "cell_type": "code",
          "checksum": "e1d418bf5351112ae8716877f8bb6359",
          "grade": true,
          "grade_id": "MAE_Gradient_Test",
          "locked": true,
          "points": 3,
          "schema_version": 3,
          "solution": false,
          "task": false
        },
        "id": "8nY4czo7gDlP"
      },
      "outputs": [],
      "source": [
        "'''\n",
        "TEST CASES, DO NOT CHANGE\n",
        "'''\n",
        "''' case 1 '''\n",
        "X=np.array([[3,6,5],[4.5,6.6,6]])\n",
        "t=np.array([4,5.5])\n",
        "w=np.array([2,-1,0.5,1])\n",
        "np.testing.assert_array_almost_equal(MAE_Gradient(X,t,w),np.array([0.75,  0.3 ,  0.5 , 0.]),decimal=3)\n"
      ]
    },
    {
      "cell_type": "code",
      "execution_count": 82,
      "metadata": {
        "deletable": false,
        "nbgrader": {
          "cell_type": "code",
          "checksum": "595829c0dd17df55a03d346fac507b4a",
          "grade": false,
          "grade_id": "L2_Gradient",
          "locked": false,
          "schema_version": 3,
          "solution": true,
          "task": false
        },
        "id": "KRJeWNT2gDlP"
      },
      "outputs": [],
      "source": [
        "def L2_Gradient (X, t, w, lamda): # Output should have the same size as w\n",
        "    # YOUR CODE HERE\n",
        "    mse_grad = MSE_Gradient(X,t,w) #mse gradient\n",
        "    l2_penalty = lamda*np.append((w[:-1]),0)/np.sqrt(np.sum(w[:-1]**2)) #gradient of L2 regularisation term = w/sqrt(sum of square of w)\n",
        "    \n",
        "    return mse_grad + l2_penalty #L2 gradient = mse gradient + gradient of L2 regularisation term\n",
        "    raise NotImplementedError()"
      ]
    },
    {
      "cell_type": "code",
      "execution_count": 83,
      "metadata": {
        "deletable": false,
        "editable": false,
        "nbgrader": {
          "cell_type": "code",
          "checksum": "f292b42c3389b24e369234a7210b87bb",
          "grade": true,
          "grade_id": "L2_Gradient_Test",
          "locked": true,
          "points": 3,
          "schema_version": 3,
          "solution": false,
          "task": false
        },
        "id": "C9fm_rsfgDlP"
      },
      "outputs": [],
      "source": [
        "'''\n",
        "TEST CASES, DO NOT CHANGE\n",
        "'''\n",
        "''' case 1 '''\n",
        "X=np.array([[3,6,5],[4.5,6.6,6]])\n",
        "t=np.array([4,5.5])\n",
        "w=np.array([2,-1,0.5,1])\n",
        "np.testing.assert_array_almost_equal(L2_Gradient(X,t,w,0.5),np.array([2.986, 2.721, 3.009 , 0.4 ]),decimal=3)\n"
      ]
    },
    {
      "cell_type": "code",
      "execution_count": 84,
      "metadata": {
        "deletable": false,
        "nbgrader": {
          "cell_type": "code",
          "checksum": "141736f1feda5aa225e008d749f0015c",
          "grade": false,
          "grade_id": "L1_Gradient",
          "locked": false,
          "schema_version": 3,
          "solution": true,
          "task": false
        },
        "id": "05h9cASVgDlP"
      },
      "outputs": [],
      "source": [
        "def L1_Gradient (X, t, w, lamda): # Output should have the same size as w\n",
        "    # YOUR CODE HERE\n",
        "    mse_grad = MSE_Gradient(X,t,w) #mse gradient\n",
        "    l1_penalty = lamda * np.sign(np.append(w[:-1],0)) #gradient of L1 regularisation term = sigmoid function of w\n",
        "    \n",
        "    return (mse_grad + l1_penalty) #L1 gradient = mse gradient + gradient of L1 regularisation term\n",
        "    raise NotImplementedError()"
      ]
    },
    {
      "cell_type": "code",
      "execution_count": 85,
      "metadata": {
        "deletable": false,
        "editable": false,
        "nbgrader": {
          "cell_type": "code",
          "checksum": "9097b61320e470f429a9f46c7da0b219",
          "grade": true,
          "grade_id": "L1_Gradient_Test",
          "locked": true,
          "points": 3,
          "schema_version": 3,
          "solution": false,
          "task": false
        },
        "id": "ZZDrgqXOgDlP"
      },
      "outputs": [],
      "source": [
        "'''\n",
        "TEST CASES, DO NOT CHANGE\n",
        "'''\n",
        "''' case 1 '''\n",
        "X=np.array([[3,6,5],[4.5,6.6,6]])\n",
        "t=np.array([4,5.5])\n",
        "w=np.array([2,-1,0.5,1])\n",
        "np.testing.assert_array_almost_equal(L1_Gradient(X,t,w,0.5),np.array([3.05, 2.44, 3.4 , 0.4 ]),decimal=3)\n"
      ]
    },
    {
      "cell_type": "markdown",
      "metadata": {
        "deletable": false,
        "editable": false,
        "nbgrader": {
          "cell_type": "markdown",
          "checksum": "1980a2f831b5e1ddc9b510c22ef502c7",
          "grade": false,
          "grade_id": "Gradient_Desc_Title",
          "locked": true,
          "schema_version": 3,
          "solution": false,
          "task": false
        },
        "id": "xGMJHQQGgDlQ"
      },
      "source": [
        "## Gradient Descent Function\n"
      ]
    },
    {
      "cell_type": "code",
      "execution_count": 86,
      "metadata": {
        "deletable": false,
        "nbgrader": {
          "cell_type": "code",
          "checksum": "78cdd5ffa4590c10e19281722ccd537f",
          "grade": false,
          "grade_id": "Gradient_Descent",
          "locked": false,
          "schema_version": 3,
          "solution": true,
          "task": false
        },
        "id": "NanKkaC7gDlQ"
      },
      "outputs": [],
      "source": [
        "def Gradient_Descent (X, X_val, t, t_val, w, lamda, max_iter, epsilon, lr, lossfunc, gradfunc): # See output format in 'return' statement\n",
        "    # YOUR CODE HERE\n",
        "\n",
        "    #Initialize losses\n",
        "    current_loss = 0\n",
        "    previous_loss = 0\n",
        "\n",
        "    for i in range(max_iter): #iterate upto maximum iterations\n",
        "      current_loss = lossfunc(X, t, w, lamda) #calculate present loss\n",
        "      #print(current_loss)\n",
        "      if (previous_loss and abs(current_loss - previous_loss) <= epsilon): #early stopping of training function if error terms are constant upto epsilon value\n",
        "        break\n",
        "      previous_loss = current_loss\n",
        "      w = w - lr * gradfunc(X, t, w, lamda) #updation of weights \n",
        "\n",
        "    w_final = w\n",
        "    train_loss_final = lossfunc(X, t, w, lamda) #calculation of training loss\n",
        "\n",
        "\n",
        "    validation_loss_final = lossfunc(X_val, t_val, w, lamda) #calculation of validation loss\n",
        "    validation_NRMSE = NRMSE_Metric(X_val, t_val, w, lamda) #calculation of NRMSE metric\n",
        "\n",
        "    #print(i)\n",
        "    return w_final, train_loss_final, validation_loss_final, validation_NRMSE #You should return variables structured like this.\n",
        "    raise NotImplementedError()\n",
        "    \n",
        "    "
      ]
    },
    {
      "cell_type": "code",
      "execution_count": 87,
      "metadata": {
        "deletable": false,
        "editable": false,
        "nbgrader": {
          "cell_type": "code",
          "checksum": "15a67336bed20a51f33820bf615186e8",
          "grade": true,
          "grade_id": "Gradient_Check",
          "locked": true,
          "points": 20,
          "schema_version": 3,
          "solution": false,
          "task": false
        },
        "colab": {
          "base_uri": "https://localhost:8080/"
        },
        "id": "mjrkkijjgDlQ",
        "outputId": "87c6416d-a8fd-4ac2-8e1e-68aec49bfe17"
      },
      "outputs": [
        {
          "output_type": "stream",
          "name": "stdout",
          "text": [
            "(array([1.40919402, 0.34000408, 0.9307617 ]), 705.3173136659046, 24.43506990649552, 9.856998891856357)\n"
          ]
        }
      ],
      "source": [
        "'''\n",
        "TEST CASES, DO NOT CHANGE\n",
        "'''\n",
        "X=np.array([[23,24],[1,2]])\n",
        "t=np.array([4,5])\n",
        "X_val=np.array([[3,4],[5,6]])\n",
        "t_val=np.array([3,4])\n",
        "w=np.array([3,2,1])\n",
        "results =Gradient_Descent (X, X_val, t, t_val, w, 0.1, 100, 1e-10, 1e-5, L2_Loss,L2_Gradient) \n",
        "print(results)\n",
        "np.testing.assert_allclose([results[1]],[697.919],rtol =0.05)\n",
        "np.testing.assert_allclose([results[2]],[20],atol=5) # we expect around 17.5  but some students got 24 which we will also accept\n",
        "#Instructor Values of results[1] and results [2] are 697.919 and 17.512 respectively"
      ]
    },
    {
      "cell_type": "markdown",
      "metadata": {
        "deletable": false,
        "editable": false,
        "nbgrader": {
          "cell_type": "markdown",
          "checksum": "24f327aa6a14590077f907ee8323724c",
          "grade": false,
          "grade_id": "PseudoInvTitle",
          "locked": true,
          "schema_version": 3,
          "solution": false,
          "task": false
        },
        "id": "lgGDDh8xgDlQ"
      },
      "source": [
        "## Pseudo Inverse Method\n",
        "\n",
        "You have to implement a slightly more advanced version, with L2 penalty:\n",
        "\n",
        "w = (X' X + lambda I)^(-1) X' t.\n",
        "\n",
        "See, for example: Section 2 of https://web.mit.edu/zoya/www/linearRegression.pdf\n",
        "\n",
        "Here, the column of 1's in assumed to be included in X"
      ]
    },
    {
      "cell_type": "code",
      "execution_count": 88,
      "metadata": {
        "deletable": false,
        "nbgrader": {
          "cell_type": "code",
          "checksum": "928c9b105c4bcf3c132c7520a140d509",
          "grade": false,
          "grade_id": "PseudoInv",
          "locked": false,
          "schema_version": 3,
          "solution": true,
          "task": false
        },
        "id": "ERb_7B1VgDlR"
      },
      "outputs": [],
      "source": [
        "def Pseudo_Inverse (X, t, lamda): # Output should be weight vector\n",
        "    # YOUR CODE HERE\n",
        "    X = np.c_[X, np.ones(X.shape[0])] #append one extra column (each element equal one) for bias \n",
        "    X_col = X.shape[1]\n",
        "\n",
        "    w = np.dot(np.dot((np.linalg.inv(np.dot(np.transpose(X),X)+ lamda*np.identity(X.shape[1]))),np.transpose(X)),t) #weight calculation using equation: w = (X' X + lambda I)^(-1) X' t.\n",
        "    return w\n",
        "    raise NotImplementedError()"
      ]
    },
    {
      "cell_type": "code",
      "execution_count": 89,
      "metadata": {
        "deletable": false,
        "editable": false,
        "nbgrader": {
          "cell_type": "code",
          "checksum": "a5178b8280650ed5d1d55dc6bbb38a29",
          "grade": true,
          "grade_id": "PseudoInvTest",
          "locked": true,
          "points": 10,
          "schema_version": 3,
          "solution": false,
          "task": false
        },
        "id": "u7hAR8TAgDlR"
      },
      "outputs": [],
      "source": [
        "'''\n",
        "TEST CASES, DO NOT CHANGE\n",
        "'''\n",
        "''' case 1 - other data'''\n",
        "X=np.array([[3,6,5],[4.5,6.6,6]])\n",
        "t=np.array([4,5.5])\n",
        "np.testing.assert_array_almost_equal(Pseudo_Inverse(X,t,0.5),np.array([ 0.491,  0.183,  0.319, -0.002]),decimal=3)"
      ]
    },
    {
      "cell_type": "markdown",
      "metadata": {
        "deletable": false,
        "editable": false,
        "nbgrader": {
          "cell_type": "markdown",
          "checksum": "8748fcc0dc96df6e7bb48a4e315927d3",
          "grade": false,
          "grade_id": "cell-e0fa02d7eecfb851",
          "locked": true,
          "schema_version": 3,
          "solution": false,
          "task": false
        },
        "id": "euAJe9xJgDlR"
      },
      "source": [
        "#... Part 1 ends Below this you be more creative. Just comment out the lines where you save files (e.g. test predictions)."
      ]
    },
    {
      "cell_type": "markdown",
      "metadata": {
        "deletable": false,
        "editable": false,
        "nbgrader": {
          "cell_type": "markdown",
          "checksum": "c9047f75587bfee6b7b0a4b244efc7fa",
          "grade": false,
          "grade_id": "cell-10f0d275f5cd36f6",
          "locked": true,
          "schema_version": 3,
          "solution": false,
          "task": false
        },
        "id": "137WiwTNgDlS"
      },
      "source": [
        "#**Part 2 begins ...**\n",
        "\n",
        "**Instructions to be loosely followed (except number 8):**\n",
        "\n",
        "1. Add more code and text cells between this and the last cell.\n",
        "2. Read training data from: https://www.ee.iitb.ac.in/~asethi/Dump/TempTrain.csv only. Do not use a local copy of the dataset.\n",
        "3. Find the best lamda for **MSE+lamda*L2(w)** loss function. Plot training and validation RMSE vs. 1/lamda (1/lamda represents model complexity). Print weights, validation RMSE, validation NRMSE for the best lamda.\n",
        "4. Find the best lamda for **MSE+lamda*L1(w)** loss function. Plot training and validation RMSE vs. 1/lamda (1/lamda represents model complexity). Print weights, validation RMSE, validation NRMSE for the best lamda.\n",
        "5. Find the best lamda for the **pseudo-inv method**. Plot training and validation RMSE vs. 1/lamda (1/lamda represents model complexity). Print weights, validation RMSE, validation NRMSE for the best lamda.\n",
        "6. Write your observations and conclusions.\n",
        "7. Read test data from: https://www.ee.iitb.ac.in/~asethi/Dump/TempTest.csv only. Do not use a local copy of the dataset. Predict its dependent (missing last column) using the model with the lowest MSE, RMSE, or NRMSE. Save it as a file RollNo1_RollNo2_1.csv.\n",
        "8. **Disable the prediction csv file saving statement and submit this entire .ipynb file, .py file, and .csv file as a single RollNo1_RollNo2_1.zip file.**\n"
      ]
    },
    {
      "cell_type": "code",
      "source": [
        "df = pd.read_csv(\"https://www.ee.iitb.ac.in/~asethi/Dump/TempTrain.csv\") #read the training data"
      ],
      "metadata": {
        "id": "4ZcKY5msy6Rl"
      },
      "execution_count": 90,
      "outputs": []
    },
    {
      "cell_type": "code",
      "source": [
        "#randomizing the dataset before splitting into train and test\n",
        "np.random.seed(0) #seed for fixing random values\n",
        "msk = np.random.rand(len(df)) < 0.8 #create mask of 80% values randomly sampled from train data file\n",
        "\n",
        "# splitting dataframe into train and test\n",
        "train = df[msk] #use 80% mask to separate training data\n",
        "test = df[~msk] #use invereted mask to separate remaining data for testing"
      ],
      "metadata": {
        "id": "NVk8-3tHTZRL"
      },
      "execution_count": 91,
      "outputs": []
    },
    {
      "cell_type": "code",
      "source": [
        "# train = df[:4861]\n",
        "# test = df[4861:]"
      ],
      "metadata": {
        "id": "znY_LlMMTmP_"
      },
      "execution_count": 92,
      "outputs": []
    },
    {
      "cell_type": "code",
      "source": [
        "train #training data visualisation as dataframe"
      ],
      "metadata": {
        "colab": {
          "base_uri": "https://localhost:8080/",
          "height": 505
        },
        "id": "_3US0PjRVj1F",
        "outputId": "14161308-fecc-47fe-e340-46a3729217c1"
      },
      "execution_count": 93,
      "outputs": [
        {
          "output_type": "execute_result",
          "data": {
            "text/html": [
              "\n",
              "  <div id=\"df-d04caec3-9cb8-4a4e-91a4-fe2683d1fdc9\">\n",
              "    <div class=\"colab-df-container\">\n",
              "      <div>\n",
              "<style scoped>\n",
              "    .dataframe tbody tr th:only-of-type {\n",
              "        vertical-align: middle;\n",
              "    }\n",
              "\n",
              "    .dataframe tbody tr th {\n",
              "        vertical-align: top;\n",
              "    }\n",
              "\n",
              "    .dataframe thead th {\n",
              "        text-align: right;\n",
              "    }\n",
              "</style>\n",
              "<table border=\"1\" class=\"dataframe\">\n",
              "  <thead>\n",
              "    <tr style=\"text-align: right;\">\n",
              "      <th></th>\n",
              "      <th>Present_Tmax</th>\n",
              "      <th>Present_Tmin</th>\n",
              "      <th>LDAPS_RHmin</th>\n",
              "      <th>LDAPS_RHmax</th>\n",
              "      <th>LDAPS_Tmax_lapse</th>\n",
              "      <th>LDAPS_Tmin_lapse</th>\n",
              "      <th>LDAPS_WS</th>\n",
              "      <th>LDAPS_LH</th>\n",
              "      <th>LDAPS_CC1</th>\n",
              "      <th>LDAPS_CC2</th>\n",
              "      <th>LDAPS_CC3</th>\n",
              "      <th>LDAPS_CC4</th>\n",
              "      <th>LDAPS_PPT1</th>\n",
              "      <th>LDAPS_PPT2</th>\n",
              "      <th>LDAPS_PPT3</th>\n",
              "      <th>LDAPS_PPT4</th>\n",
              "      <th>lat</th>\n",
              "      <th>lon</th>\n",
              "      <th>DEM</th>\n",
              "      <th>Slope</th>\n",
              "      <th>Solar radiation</th>\n",
              "      <th>Next_Tmax</th>\n",
              "    </tr>\n",
              "  </thead>\n",
              "  <tbody>\n",
              "    <tr>\n",
              "      <th>0</th>\n",
              "      <td>28.7</td>\n",
              "      <td>21.4</td>\n",
              "      <td>58.255688</td>\n",
              "      <td>91.116364</td>\n",
              "      <td>28.074101</td>\n",
              "      <td>23.006936</td>\n",
              "      <td>6.818887</td>\n",
              "      <td>69.451805</td>\n",
              "      <td>0.233947</td>\n",
              "      <td>0.203896</td>\n",
              "      <td>0.161697</td>\n",
              "      <td>0.130928</td>\n",
              "      <td>0.000000</td>\n",
              "      <td>0.000000</td>\n",
              "      <td>0.000000</td>\n",
              "      <td>0.000000</td>\n",
              "      <td>37.6046</td>\n",
              "      <td>126.991</td>\n",
              "      <td>212.3350</td>\n",
              "      <td>2.7850</td>\n",
              "      <td>5992.895996</td>\n",
              "      <td>29.1</td>\n",
              "    </tr>\n",
              "    <tr>\n",
              "      <th>1</th>\n",
              "      <td>31.9</td>\n",
              "      <td>21.6</td>\n",
              "      <td>52.263397</td>\n",
              "      <td>90.604721</td>\n",
              "      <td>29.850689</td>\n",
              "      <td>24.035009</td>\n",
              "      <td>5.691890</td>\n",
              "      <td>51.937448</td>\n",
              "      <td>0.225508</td>\n",
              "      <td>0.251771</td>\n",
              "      <td>0.159444</td>\n",
              "      <td>0.127727</td>\n",
              "      <td>0.000000</td>\n",
              "      <td>0.000000</td>\n",
              "      <td>0.000000</td>\n",
              "      <td>0.000000</td>\n",
              "      <td>37.6046</td>\n",
              "      <td>127.032</td>\n",
              "      <td>44.7624</td>\n",
              "      <td>0.5141</td>\n",
              "      <td>5869.312500</td>\n",
              "      <td>30.5</td>\n",
              "    </tr>\n",
              "    <tr>\n",
              "      <th>2</th>\n",
              "      <td>31.6</td>\n",
              "      <td>23.3</td>\n",
              "      <td>48.690479</td>\n",
              "      <td>83.973587</td>\n",
              "      <td>30.091292</td>\n",
              "      <td>24.565633</td>\n",
              "      <td>6.138224</td>\n",
              "      <td>20.573050</td>\n",
              "      <td>0.209344</td>\n",
              "      <td>0.257469</td>\n",
              "      <td>0.204091</td>\n",
              "      <td>0.142125</td>\n",
              "      <td>0.000000</td>\n",
              "      <td>0.000000</td>\n",
              "      <td>0.000000</td>\n",
              "      <td>0.000000</td>\n",
              "      <td>37.5776</td>\n",
              "      <td>127.058</td>\n",
              "      <td>33.3068</td>\n",
              "      <td>0.2661</td>\n",
              "      <td>5863.555664</td>\n",
              "      <td>31.1</td>\n",
              "    </tr>\n",
              "    <tr>\n",
              "      <th>3</th>\n",
              "      <td>32.0</td>\n",
              "      <td>23.4</td>\n",
              "      <td>58.239788</td>\n",
              "      <td>96.483688</td>\n",
              "      <td>29.704629</td>\n",
              "      <td>23.326177</td>\n",
              "      <td>5.650050</td>\n",
              "      <td>65.727144</td>\n",
              "      <td>0.216372</td>\n",
              "      <td>0.226002</td>\n",
              "      <td>0.161157</td>\n",
              "      <td>0.134249</td>\n",
              "      <td>0.000000</td>\n",
              "      <td>0.000000</td>\n",
              "      <td>0.000000</td>\n",
              "      <td>0.000000</td>\n",
              "      <td>37.6450</td>\n",
              "      <td>127.022</td>\n",
              "      <td>45.7160</td>\n",
              "      <td>2.5348</td>\n",
              "      <td>5856.964844</td>\n",
              "      <td>31.7</td>\n",
              "    </tr>\n",
              "    <tr>\n",
              "      <th>4</th>\n",
              "      <td>31.4</td>\n",
              "      <td>21.9</td>\n",
              "      <td>56.174095</td>\n",
              "      <td>90.155128</td>\n",
              "      <td>29.113934</td>\n",
              "      <td>23.486480</td>\n",
              "      <td>5.735004</td>\n",
              "      <td>107.965535</td>\n",
              "      <td>0.151407</td>\n",
              "      <td>0.249995</td>\n",
              "      <td>0.178892</td>\n",
              "      <td>0.170021</td>\n",
              "      <td>0.000000</td>\n",
              "      <td>0.000000</td>\n",
              "      <td>0.000000</td>\n",
              "      <td>0.000000</td>\n",
              "      <td>37.5507</td>\n",
              "      <td>127.135</td>\n",
              "      <td>35.0380</td>\n",
              "      <td>0.5055</td>\n",
              "      <td>5859.552246</td>\n",
              "      <td>31.2</td>\n",
              "    </tr>\n",
              "    <tr>\n",
              "      <th>...</th>\n",
              "      <td>...</td>\n",
              "      <td>...</td>\n",
              "      <td>...</td>\n",
              "      <td>...</td>\n",
              "      <td>...</td>\n",
              "      <td>...</td>\n",
              "      <td>...</td>\n",
              "      <td>...</td>\n",
              "      <td>...</td>\n",
              "      <td>...</td>\n",
              "      <td>...</td>\n",
              "      <td>...</td>\n",
              "      <td>...</td>\n",
              "      <td>...</td>\n",
              "      <td>...</td>\n",
              "      <td>...</td>\n",
              "      <td>...</td>\n",
              "      <td>...</td>\n",
              "      <td>...</td>\n",
              "      <td>...</td>\n",
              "      <td>...</td>\n",
              "      <td>...</td>\n",
              "    </tr>\n",
              "    <tr>\n",
              "      <th>6076</th>\n",
              "      <td>24.1</td>\n",
              "      <td>17.9</td>\n",
              "      <td>98.194176</td>\n",
              "      <td>99.427292</td>\n",
              "      <td>17.835558</td>\n",
              "      <td>14.791082</td>\n",
              "      <td>20.113253</td>\n",
              "      <td>30.171732</td>\n",
              "      <td>0.732895</td>\n",
              "      <td>0.954414</td>\n",
              "      <td>0.983789</td>\n",
              "      <td>0.899487</td>\n",
              "      <td>0.829557</td>\n",
              "      <td>2.535310</td>\n",
              "      <td>5.512385</td>\n",
              "      <td>2.187634</td>\n",
              "      <td>37.6181</td>\n",
              "      <td>127.004</td>\n",
              "      <td>146.5540</td>\n",
              "      <td>4.7296</td>\n",
              "      <td>4515.370117</td>\n",
              "      <td>19.5</td>\n",
              "    </tr>\n",
              "    <tr>\n",
              "      <th>6078</th>\n",
              "      <td>24.4</td>\n",
              "      <td>19.7</td>\n",
              "      <td>79.676888</td>\n",
              "      <td>90.329170</td>\n",
              "      <td>20.957463</td>\n",
              "      <td>17.063541</td>\n",
              "      <td>13.844681</td>\n",
              "      <td>95.444412</td>\n",
              "      <td>0.787284</td>\n",
              "      <td>0.901921</td>\n",
              "      <td>0.920533</td>\n",
              "      <td>0.667988</td>\n",
              "      <td>0.297791</td>\n",
              "      <td>1.894275</td>\n",
              "      <td>5.737044</td>\n",
              "      <td>1.002951</td>\n",
              "      <td>37.5102</td>\n",
              "      <td>127.086</td>\n",
              "      <td>21.9668</td>\n",
              "      <td>0.1332</td>\n",
              "      <td>4401.705566</td>\n",
              "      <td>21.4</td>\n",
              "    </tr>\n",
              "    <tr>\n",
              "      <th>6079</th>\n",
              "      <td>24.8</td>\n",
              "      <td>19.9</td>\n",
              "      <td>82.331352</td>\n",
              "      <td>90.905838</td>\n",
              "      <td>20.804890</td>\n",
              "      <td>16.927768</td>\n",
              "      <td>14.502989</td>\n",
              "      <td>85.178889</td>\n",
              "      <td>0.769457</td>\n",
              "      <td>0.949824</td>\n",
              "      <td>0.966691</td>\n",
              "      <td>0.811649</td>\n",
              "      <td>0.413629</td>\n",
              "      <td>1.465975</td>\n",
              "      <td>4.861343</td>\n",
              "      <td>0.750402</td>\n",
              "      <td>37.5372</td>\n",
              "      <td>126.891</td>\n",
              "      <td>15.5876</td>\n",
              "      <td>0.1554</td>\n",
              "      <td>4403.272949</td>\n",
              "      <td>21.2</td>\n",
              "    </tr>\n",
              "    <tr>\n",
              "      <th>6080</th>\n",
              "      <td>24.8</td>\n",
              "      <td>19.9</td>\n",
              "      <td>79.719048</td>\n",
              "      <td>89.949905</td>\n",
              "      <td>21.023026</td>\n",
              "      <td>16.951494</td>\n",
              "      <td>14.510165</td>\n",
              "      <td>85.830552</td>\n",
              "      <td>0.760021</td>\n",
              "      <td>0.947244</td>\n",
              "      <td>0.955192</td>\n",
              "      <td>0.784297</td>\n",
              "      <td>0.403947</td>\n",
              "      <td>1.534074</td>\n",
              "      <td>5.315514</td>\n",
              "      <td>0.815112</td>\n",
              "      <td>37.5237</td>\n",
              "      <td>126.909</td>\n",
              "      <td>17.2956</td>\n",
              "      <td>0.2223</td>\n",
              "      <td>4398.263672</td>\n",
              "      <td>21.1</td>\n",
              "    </tr>\n",
              "    <tr>\n",
              "      <th>6081</th>\n",
              "      <td>24.2</td>\n",
              "      <td>19.7</td>\n",
              "      <td>78.144394</td>\n",
              "      <td>89.989449</td>\n",
              "      <td>20.997698</td>\n",
              "      <td>16.964266</td>\n",
              "      <td>14.458249</td>\n",
              "      <td>83.826640</td>\n",
              "      <td>0.760509</td>\n",
              "      <td>0.896064</td>\n",
              "      <td>0.945393</td>\n",
              "      <td>0.764570</td>\n",
              "      <td>0.358294</td>\n",
              "      <td>1.889201</td>\n",
              "      <td>5.354027</td>\n",
              "      <td>0.870715</td>\n",
              "      <td>37.5237</td>\n",
              "      <td>126.970</td>\n",
              "      <td>19.5844</td>\n",
              "      <td>0.2713</td>\n",
              "      <td>4411.375977</td>\n",
              "      <td>21.1</td>\n",
              "    </tr>\n",
              "  </tbody>\n",
              "</table>\n",
              "<p>4878 rows × 22 columns</p>\n",
              "</div>\n",
              "      <button class=\"colab-df-convert\" onclick=\"convertToInteractive('df-d04caec3-9cb8-4a4e-91a4-fe2683d1fdc9')\"\n",
              "              title=\"Convert this dataframe to an interactive table.\"\n",
              "              style=\"display:none;\">\n",
              "        \n",
              "  <svg xmlns=\"http://www.w3.org/2000/svg\" height=\"24px\"viewBox=\"0 0 24 24\"\n",
              "       width=\"24px\">\n",
              "    <path d=\"M0 0h24v24H0V0z\" fill=\"none\"/>\n",
              "    <path d=\"M18.56 5.44l.94 2.06.94-2.06 2.06-.94-2.06-.94-.94-2.06-.94 2.06-2.06.94zm-11 1L8.5 8.5l.94-2.06 2.06-.94-2.06-.94L8.5 2.5l-.94 2.06-2.06.94zm10 10l.94 2.06.94-2.06 2.06-.94-2.06-.94-.94-2.06-.94 2.06-2.06.94z\"/><path d=\"M17.41 7.96l-1.37-1.37c-.4-.4-.92-.59-1.43-.59-.52 0-1.04.2-1.43.59L10.3 9.45l-7.72 7.72c-.78.78-.78 2.05 0 2.83L4 21.41c.39.39.9.59 1.41.59.51 0 1.02-.2 1.41-.59l7.78-7.78 2.81-2.81c.8-.78.8-2.07 0-2.86zM5.41 20L4 18.59l7.72-7.72 1.47 1.35L5.41 20z\"/>\n",
              "  </svg>\n",
              "      </button>\n",
              "      \n",
              "  <style>\n",
              "    .colab-df-container {\n",
              "      display:flex;\n",
              "      flex-wrap:wrap;\n",
              "      gap: 12px;\n",
              "    }\n",
              "\n",
              "    .colab-df-convert {\n",
              "      background-color: #E8F0FE;\n",
              "      border: none;\n",
              "      border-radius: 50%;\n",
              "      cursor: pointer;\n",
              "      display: none;\n",
              "      fill: #1967D2;\n",
              "      height: 32px;\n",
              "      padding: 0 0 0 0;\n",
              "      width: 32px;\n",
              "    }\n",
              "\n",
              "    .colab-df-convert:hover {\n",
              "      background-color: #E2EBFA;\n",
              "      box-shadow: 0px 1px 2px rgba(60, 64, 67, 0.3), 0px 1px 3px 1px rgba(60, 64, 67, 0.15);\n",
              "      fill: #174EA6;\n",
              "    }\n",
              "\n",
              "    [theme=dark] .colab-df-convert {\n",
              "      background-color: #3B4455;\n",
              "      fill: #D2E3FC;\n",
              "    }\n",
              "\n",
              "    [theme=dark] .colab-df-convert:hover {\n",
              "      background-color: #434B5C;\n",
              "      box-shadow: 0px 1px 3px 1px rgba(0, 0, 0, 0.15);\n",
              "      filter: drop-shadow(0px 1px 2px rgba(0, 0, 0, 0.3));\n",
              "      fill: #FFFFFF;\n",
              "    }\n",
              "  </style>\n",
              "\n",
              "      <script>\n",
              "        const buttonEl =\n",
              "          document.querySelector('#df-d04caec3-9cb8-4a4e-91a4-fe2683d1fdc9 button.colab-df-convert');\n",
              "        buttonEl.style.display =\n",
              "          google.colab.kernel.accessAllowed ? 'block' : 'none';\n",
              "\n",
              "        async function convertToInteractive(key) {\n",
              "          const element = document.querySelector('#df-d04caec3-9cb8-4a4e-91a4-fe2683d1fdc9');\n",
              "          const dataTable =\n",
              "            await google.colab.kernel.invokeFunction('convertToInteractive',\n",
              "                                                     [key], {});\n",
              "          if (!dataTable) return;\n",
              "\n",
              "          const docLinkHtml = 'Like what you see? Visit the ' +\n",
              "            '<a target=\"_blank\" href=https://colab.research.google.com/notebooks/data_table.ipynb>data table notebook</a>'\n",
              "            + ' to learn more about interactive tables.';\n",
              "          element.innerHTML = '';\n",
              "          dataTable['output_type'] = 'display_data';\n",
              "          await google.colab.output.renderOutput(dataTable, element);\n",
              "          const docLink = document.createElement('div');\n",
              "          docLink.innerHTML = docLinkHtml;\n",
              "          element.appendChild(docLink);\n",
              "        }\n",
              "      </script>\n",
              "    </div>\n",
              "  </div>\n",
              "  "
            ],
            "text/plain": [
              "      Present_Tmax  Present_Tmin  ...  Solar radiation  Next_Tmax\n",
              "0             28.7          21.4  ...      5992.895996       29.1\n",
              "1             31.9          21.6  ...      5869.312500       30.5\n",
              "2             31.6          23.3  ...      5863.555664       31.1\n",
              "3             32.0          23.4  ...      5856.964844       31.7\n",
              "4             31.4          21.9  ...      5859.552246       31.2\n",
              "...            ...           ...  ...              ...        ...\n",
              "6076          24.1          17.9  ...      4515.370117       19.5\n",
              "6078          24.4          19.7  ...      4401.705566       21.4\n",
              "6079          24.8          19.9  ...      4403.272949       21.2\n",
              "6080          24.8          19.9  ...      4398.263672       21.1\n",
              "6081          24.2          19.7  ...      4411.375977       21.1\n",
              "\n",
              "[4878 rows x 22 columns]"
            ]
          },
          "metadata": {},
          "execution_count": 93
        }
      ]
    },
    {
      "cell_type": "code",
      "source": [
        "#separating input and output values of model for test and train dataframe\n",
        "\n",
        "#and removing the title bar from data\n",
        "X_train = train.drop('Next_Tmax', axis=1) \n",
        "y_train = train['Next_Tmax'] \n",
        "\n",
        "X_test = test.drop('Next_Tmax', axis=1) \n",
        "y_test = test['Next_Tmax'] \n"
      ],
      "metadata": {
        "id": "1abY9twm5DQ5"
      },
      "execution_count": 94,
      "outputs": []
    },
    {
      "cell_type": "code",
      "source": [
        "X_train #input train vector dataframe"
      ],
      "metadata": {
        "colab": {
          "base_uri": "https://localhost:8080/",
          "height": 505
        },
        "id": "v7D7t_YUXeZC",
        "outputId": "72119004-38e5-4ff9-89bc-f6e495de4390"
      },
      "execution_count": 95,
      "outputs": [
        {
          "output_type": "execute_result",
          "data": {
            "text/html": [
              "\n",
              "  <div id=\"df-1dc221bb-7370-4c85-82b2-162ec5bda693\">\n",
              "    <div class=\"colab-df-container\">\n",
              "      <div>\n",
              "<style scoped>\n",
              "    .dataframe tbody tr th:only-of-type {\n",
              "        vertical-align: middle;\n",
              "    }\n",
              "\n",
              "    .dataframe tbody tr th {\n",
              "        vertical-align: top;\n",
              "    }\n",
              "\n",
              "    .dataframe thead th {\n",
              "        text-align: right;\n",
              "    }\n",
              "</style>\n",
              "<table border=\"1\" class=\"dataframe\">\n",
              "  <thead>\n",
              "    <tr style=\"text-align: right;\">\n",
              "      <th></th>\n",
              "      <th>Present_Tmax</th>\n",
              "      <th>Present_Tmin</th>\n",
              "      <th>LDAPS_RHmin</th>\n",
              "      <th>LDAPS_RHmax</th>\n",
              "      <th>LDAPS_Tmax_lapse</th>\n",
              "      <th>LDAPS_Tmin_lapse</th>\n",
              "      <th>LDAPS_WS</th>\n",
              "      <th>LDAPS_LH</th>\n",
              "      <th>LDAPS_CC1</th>\n",
              "      <th>LDAPS_CC2</th>\n",
              "      <th>LDAPS_CC3</th>\n",
              "      <th>LDAPS_CC4</th>\n",
              "      <th>LDAPS_PPT1</th>\n",
              "      <th>LDAPS_PPT2</th>\n",
              "      <th>LDAPS_PPT3</th>\n",
              "      <th>LDAPS_PPT4</th>\n",
              "      <th>lat</th>\n",
              "      <th>lon</th>\n",
              "      <th>DEM</th>\n",
              "      <th>Slope</th>\n",
              "      <th>Solar radiation</th>\n",
              "    </tr>\n",
              "  </thead>\n",
              "  <tbody>\n",
              "    <tr>\n",
              "      <th>0</th>\n",
              "      <td>28.7</td>\n",
              "      <td>21.4</td>\n",
              "      <td>58.255688</td>\n",
              "      <td>91.116364</td>\n",
              "      <td>28.074101</td>\n",
              "      <td>23.006936</td>\n",
              "      <td>6.818887</td>\n",
              "      <td>69.451805</td>\n",
              "      <td>0.233947</td>\n",
              "      <td>0.203896</td>\n",
              "      <td>0.161697</td>\n",
              "      <td>0.130928</td>\n",
              "      <td>0.000000</td>\n",
              "      <td>0.000000</td>\n",
              "      <td>0.000000</td>\n",
              "      <td>0.000000</td>\n",
              "      <td>37.6046</td>\n",
              "      <td>126.991</td>\n",
              "      <td>212.3350</td>\n",
              "      <td>2.7850</td>\n",
              "      <td>5992.895996</td>\n",
              "    </tr>\n",
              "    <tr>\n",
              "      <th>1</th>\n",
              "      <td>31.9</td>\n",
              "      <td>21.6</td>\n",
              "      <td>52.263397</td>\n",
              "      <td>90.604721</td>\n",
              "      <td>29.850689</td>\n",
              "      <td>24.035009</td>\n",
              "      <td>5.691890</td>\n",
              "      <td>51.937448</td>\n",
              "      <td>0.225508</td>\n",
              "      <td>0.251771</td>\n",
              "      <td>0.159444</td>\n",
              "      <td>0.127727</td>\n",
              "      <td>0.000000</td>\n",
              "      <td>0.000000</td>\n",
              "      <td>0.000000</td>\n",
              "      <td>0.000000</td>\n",
              "      <td>37.6046</td>\n",
              "      <td>127.032</td>\n",
              "      <td>44.7624</td>\n",
              "      <td>0.5141</td>\n",
              "      <td>5869.312500</td>\n",
              "    </tr>\n",
              "    <tr>\n",
              "      <th>2</th>\n",
              "      <td>31.6</td>\n",
              "      <td>23.3</td>\n",
              "      <td>48.690479</td>\n",
              "      <td>83.973587</td>\n",
              "      <td>30.091292</td>\n",
              "      <td>24.565633</td>\n",
              "      <td>6.138224</td>\n",
              "      <td>20.573050</td>\n",
              "      <td>0.209344</td>\n",
              "      <td>0.257469</td>\n",
              "      <td>0.204091</td>\n",
              "      <td>0.142125</td>\n",
              "      <td>0.000000</td>\n",
              "      <td>0.000000</td>\n",
              "      <td>0.000000</td>\n",
              "      <td>0.000000</td>\n",
              "      <td>37.5776</td>\n",
              "      <td>127.058</td>\n",
              "      <td>33.3068</td>\n",
              "      <td>0.2661</td>\n",
              "      <td>5863.555664</td>\n",
              "    </tr>\n",
              "    <tr>\n",
              "      <th>3</th>\n",
              "      <td>32.0</td>\n",
              "      <td>23.4</td>\n",
              "      <td>58.239788</td>\n",
              "      <td>96.483688</td>\n",
              "      <td>29.704629</td>\n",
              "      <td>23.326177</td>\n",
              "      <td>5.650050</td>\n",
              "      <td>65.727144</td>\n",
              "      <td>0.216372</td>\n",
              "      <td>0.226002</td>\n",
              "      <td>0.161157</td>\n",
              "      <td>0.134249</td>\n",
              "      <td>0.000000</td>\n",
              "      <td>0.000000</td>\n",
              "      <td>0.000000</td>\n",
              "      <td>0.000000</td>\n",
              "      <td>37.6450</td>\n",
              "      <td>127.022</td>\n",
              "      <td>45.7160</td>\n",
              "      <td>2.5348</td>\n",
              "      <td>5856.964844</td>\n",
              "    </tr>\n",
              "    <tr>\n",
              "      <th>4</th>\n",
              "      <td>31.4</td>\n",
              "      <td>21.9</td>\n",
              "      <td>56.174095</td>\n",
              "      <td>90.155128</td>\n",
              "      <td>29.113934</td>\n",
              "      <td>23.486480</td>\n",
              "      <td>5.735004</td>\n",
              "      <td>107.965535</td>\n",
              "      <td>0.151407</td>\n",
              "      <td>0.249995</td>\n",
              "      <td>0.178892</td>\n",
              "      <td>0.170021</td>\n",
              "      <td>0.000000</td>\n",
              "      <td>0.000000</td>\n",
              "      <td>0.000000</td>\n",
              "      <td>0.000000</td>\n",
              "      <td>37.5507</td>\n",
              "      <td>127.135</td>\n",
              "      <td>35.0380</td>\n",
              "      <td>0.5055</td>\n",
              "      <td>5859.552246</td>\n",
              "    </tr>\n",
              "    <tr>\n",
              "      <th>...</th>\n",
              "      <td>...</td>\n",
              "      <td>...</td>\n",
              "      <td>...</td>\n",
              "      <td>...</td>\n",
              "      <td>...</td>\n",
              "      <td>...</td>\n",
              "      <td>...</td>\n",
              "      <td>...</td>\n",
              "      <td>...</td>\n",
              "      <td>...</td>\n",
              "      <td>...</td>\n",
              "      <td>...</td>\n",
              "      <td>...</td>\n",
              "      <td>...</td>\n",
              "      <td>...</td>\n",
              "      <td>...</td>\n",
              "      <td>...</td>\n",
              "      <td>...</td>\n",
              "      <td>...</td>\n",
              "      <td>...</td>\n",
              "      <td>...</td>\n",
              "    </tr>\n",
              "    <tr>\n",
              "      <th>6076</th>\n",
              "      <td>24.1</td>\n",
              "      <td>17.9</td>\n",
              "      <td>98.194176</td>\n",
              "      <td>99.427292</td>\n",
              "      <td>17.835558</td>\n",
              "      <td>14.791082</td>\n",
              "      <td>20.113253</td>\n",
              "      <td>30.171732</td>\n",
              "      <td>0.732895</td>\n",
              "      <td>0.954414</td>\n",
              "      <td>0.983789</td>\n",
              "      <td>0.899487</td>\n",
              "      <td>0.829557</td>\n",
              "      <td>2.535310</td>\n",
              "      <td>5.512385</td>\n",
              "      <td>2.187634</td>\n",
              "      <td>37.6181</td>\n",
              "      <td>127.004</td>\n",
              "      <td>146.5540</td>\n",
              "      <td>4.7296</td>\n",
              "      <td>4515.370117</td>\n",
              "    </tr>\n",
              "    <tr>\n",
              "      <th>6078</th>\n",
              "      <td>24.4</td>\n",
              "      <td>19.7</td>\n",
              "      <td>79.676888</td>\n",
              "      <td>90.329170</td>\n",
              "      <td>20.957463</td>\n",
              "      <td>17.063541</td>\n",
              "      <td>13.844681</td>\n",
              "      <td>95.444412</td>\n",
              "      <td>0.787284</td>\n",
              "      <td>0.901921</td>\n",
              "      <td>0.920533</td>\n",
              "      <td>0.667988</td>\n",
              "      <td>0.297791</td>\n",
              "      <td>1.894275</td>\n",
              "      <td>5.737044</td>\n",
              "      <td>1.002951</td>\n",
              "      <td>37.5102</td>\n",
              "      <td>127.086</td>\n",
              "      <td>21.9668</td>\n",
              "      <td>0.1332</td>\n",
              "      <td>4401.705566</td>\n",
              "    </tr>\n",
              "    <tr>\n",
              "      <th>6079</th>\n",
              "      <td>24.8</td>\n",
              "      <td>19.9</td>\n",
              "      <td>82.331352</td>\n",
              "      <td>90.905838</td>\n",
              "      <td>20.804890</td>\n",
              "      <td>16.927768</td>\n",
              "      <td>14.502989</td>\n",
              "      <td>85.178889</td>\n",
              "      <td>0.769457</td>\n",
              "      <td>0.949824</td>\n",
              "      <td>0.966691</td>\n",
              "      <td>0.811649</td>\n",
              "      <td>0.413629</td>\n",
              "      <td>1.465975</td>\n",
              "      <td>4.861343</td>\n",
              "      <td>0.750402</td>\n",
              "      <td>37.5372</td>\n",
              "      <td>126.891</td>\n",
              "      <td>15.5876</td>\n",
              "      <td>0.1554</td>\n",
              "      <td>4403.272949</td>\n",
              "    </tr>\n",
              "    <tr>\n",
              "      <th>6080</th>\n",
              "      <td>24.8</td>\n",
              "      <td>19.9</td>\n",
              "      <td>79.719048</td>\n",
              "      <td>89.949905</td>\n",
              "      <td>21.023026</td>\n",
              "      <td>16.951494</td>\n",
              "      <td>14.510165</td>\n",
              "      <td>85.830552</td>\n",
              "      <td>0.760021</td>\n",
              "      <td>0.947244</td>\n",
              "      <td>0.955192</td>\n",
              "      <td>0.784297</td>\n",
              "      <td>0.403947</td>\n",
              "      <td>1.534074</td>\n",
              "      <td>5.315514</td>\n",
              "      <td>0.815112</td>\n",
              "      <td>37.5237</td>\n",
              "      <td>126.909</td>\n",
              "      <td>17.2956</td>\n",
              "      <td>0.2223</td>\n",
              "      <td>4398.263672</td>\n",
              "    </tr>\n",
              "    <tr>\n",
              "      <th>6081</th>\n",
              "      <td>24.2</td>\n",
              "      <td>19.7</td>\n",
              "      <td>78.144394</td>\n",
              "      <td>89.989449</td>\n",
              "      <td>20.997698</td>\n",
              "      <td>16.964266</td>\n",
              "      <td>14.458249</td>\n",
              "      <td>83.826640</td>\n",
              "      <td>0.760509</td>\n",
              "      <td>0.896064</td>\n",
              "      <td>0.945393</td>\n",
              "      <td>0.764570</td>\n",
              "      <td>0.358294</td>\n",
              "      <td>1.889201</td>\n",
              "      <td>5.354027</td>\n",
              "      <td>0.870715</td>\n",
              "      <td>37.5237</td>\n",
              "      <td>126.970</td>\n",
              "      <td>19.5844</td>\n",
              "      <td>0.2713</td>\n",
              "      <td>4411.375977</td>\n",
              "    </tr>\n",
              "  </tbody>\n",
              "</table>\n",
              "<p>4878 rows × 21 columns</p>\n",
              "</div>\n",
              "      <button class=\"colab-df-convert\" onclick=\"convertToInteractive('df-1dc221bb-7370-4c85-82b2-162ec5bda693')\"\n",
              "              title=\"Convert this dataframe to an interactive table.\"\n",
              "              style=\"display:none;\">\n",
              "        \n",
              "  <svg xmlns=\"http://www.w3.org/2000/svg\" height=\"24px\"viewBox=\"0 0 24 24\"\n",
              "       width=\"24px\">\n",
              "    <path d=\"M0 0h24v24H0V0z\" fill=\"none\"/>\n",
              "    <path d=\"M18.56 5.44l.94 2.06.94-2.06 2.06-.94-2.06-.94-.94-2.06-.94 2.06-2.06.94zm-11 1L8.5 8.5l.94-2.06 2.06-.94-2.06-.94L8.5 2.5l-.94 2.06-2.06.94zm10 10l.94 2.06.94-2.06 2.06-.94-2.06-.94-.94-2.06-.94 2.06-2.06.94z\"/><path d=\"M17.41 7.96l-1.37-1.37c-.4-.4-.92-.59-1.43-.59-.52 0-1.04.2-1.43.59L10.3 9.45l-7.72 7.72c-.78.78-.78 2.05 0 2.83L4 21.41c.39.39.9.59 1.41.59.51 0 1.02-.2 1.41-.59l7.78-7.78 2.81-2.81c.8-.78.8-2.07 0-2.86zM5.41 20L4 18.59l7.72-7.72 1.47 1.35L5.41 20z\"/>\n",
              "  </svg>\n",
              "      </button>\n",
              "      \n",
              "  <style>\n",
              "    .colab-df-container {\n",
              "      display:flex;\n",
              "      flex-wrap:wrap;\n",
              "      gap: 12px;\n",
              "    }\n",
              "\n",
              "    .colab-df-convert {\n",
              "      background-color: #E8F0FE;\n",
              "      border: none;\n",
              "      border-radius: 50%;\n",
              "      cursor: pointer;\n",
              "      display: none;\n",
              "      fill: #1967D2;\n",
              "      height: 32px;\n",
              "      padding: 0 0 0 0;\n",
              "      width: 32px;\n",
              "    }\n",
              "\n",
              "    .colab-df-convert:hover {\n",
              "      background-color: #E2EBFA;\n",
              "      box-shadow: 0px 1px 2px rgba(60, 64, 67, 0.3), 0px 1px 3px 1px rgba(60, 64, 67, 0.15);\n",
              "      fill: #174EA6;\n",
              "    }\n",
              "\n",
              "    [theme=dark] .colab-df-convert {\n",
              "      background-color: #3B4455;\n",
              "      fill: #D2E3FC;\n",
              "    }\n",
              "\n",
              "    [theme=dark] .colab-df-convert:hover {\n",
              "      background-color: #434B5C;\n",
              "      box-shadow: 0px 1px 3px 1px rgba(0, 0, 0, 0.15);\n",
              "      filter: drop-shadow(0px 1px 2px rgba(0, 0, 0, 0.3));\n",
              "      fill: #FFFFFF;\n",
              "    }\n",
              "  </style>\n",
              "\n",
              "      <script>\n",
              "        const buttonEl =\n",
              "          document.querySelector('#df-1dc221bb-7370-4c85-82b2-162ec5bda693 button.colab-df-convert');\n",
              "        buttonEl.style.display =\n",
              "          google.colab.kernel.accessAllowed ? 'block' : 'none';\n",
              "\n",
              "        async function convertToInteractive(key) {\n",
              "          const element = document.querySelector('#df-1dc221bb-7370-4c85-82b2-162ec5bda693');\n",
              "          const dataTable =\n",
              "            await google.colab.kernel.invokeFunction('convertToInteractive',\n",
              "                                                     [key], {});\n",
              "          if (!dataTable) return;\n",
              "\n",
              "          const docLinkHtml = 'Like what you see? Visit the ' +\n",
              "            '<a target=\"_blank\" href=https://colab.research.google.com/notebooks/data_table.ipynb>data table notebook</a>'\n",
              "            + ' to learn more about interactive tables.';\n",
              "          element.innerHTML = '';\n",
              "          dataTable['output_type'] = 'display_data';\n",
              "          await google.colab.output.renderOutput(dataTable, element);\n",
              "          const docLink = document.createElement('div');\n",
              "          docLink.innerHTML = docLinkHtml;\n",
              "          element.appendChild(docLink);\n",
              "        }\n",
              "      </script>\n",
              "    </div>\n",
              "  </div>\n",
              "  "
            ],
            "text/plain": [
              "      Present_Tmax  Present_Tmin  ...   Slope  Solar radiation\n",
              "0             28.7          21.4  ...  2.7850      5992.895996\n",
              "1             31.9          21.6  ...  0.5141      5869.312500\n",
              "2             31.6          23.3  ...  0.2661      5863.555664\n",
              "3             32.0          23.4  ...  2.5348      5856.964844\n",
              "4             31.4          21.9  ...  0.5055      5859.552246\n",
              "...            ...           ...  ...     ...              ...\n",
              "6076          24.1          17.9  ...  4.7296      4515.370117\n",
              "6078          24.4          19.7  ...  0.1332      4401.705566\n",
              "6079          24.8          19.9  ...  0.1554      4403.272949\n",
              "6080          24.8          19.9  ...  0.2223      4398.263672\n",
              "6081          24.2          19.7  ...  0.2713      4411.375977\n",
              "\n",
              "[4878 rows x 21 columns]"
            ]
          },
          "metadata": {},
          "execution_count": 95
        }
      ]
    },
    {
      "cell_type": "code",
      "source": [
        "#converting dataframe to numpy for faster computation\n",
        "X_train = X_train.to_numpy()\n",
        "y_train = y_train.to_numpy()\n",
        "\n",
        "X_test = X_test.to_numpy()\n",
        "y_test = y_test.to_numpy()"
      ],
      "metadata": {
        "id": "tTjTE-sfNJtk"
      },
      "execution_count": 96,
      "outputs": []
    },
    {
      "cell_type": "code",
      "source": [
        "X_train_org = X_train #storing original copy of training data"
      ],
      "metadata": {
        "id": "tBep3wmHri4p"
      },
      "execution_count": 97,
      "outputs": []
    },
    {
      "cell_type": "code",
      "source": [
        "print(f\"{min(y_train)} , {max(y_train)}\") #max and minimum output balues"
      ],
      "metadata": {
        "colab": {
          "base_uri": "https://localhost:8080/"
        },
        "id": "tkHJ_xbArwti",
        "outputId": "d50cad59-07bf-4353-8bb2-1f7f214a4f3f"
      },
      "execution_count": 98,
      "outputs": [
        {
          "output_type": "stream",
          "name": "stdout",
          "text": [
            "17.4 , 38.9\n"
          ]
        }
      ]
    },
    {
      "cell_type": "code",
      "source": [
        "#Normalising the input training vectors:\n",
        "#X_train =X_train/(np.linalg.norm(X_train))\n",
        "#X_train /=  X_train.sum(axis=1)[:,np.newaxis]\n",
        "\n",
        "X_train = Normalize(X_train) #normalise the input training vector\n",
        "X_train"
      ],
      "metadata": {
        "id": "FNOyUi_TNUr_",
        "colab": {
          "base_uri": "https://localhost:8080/"
        },
        "outputId": "0321cfd6-90e8-404b-dda1-cec201ba06ba"
      },
      "execution_count": 99,
      "outputs": [
        {
          "output_type": "execute_result",
          "data": {
            "text/plain": [
              "array([[-0.36556423, -0.70069952,  0.15284963, ...,  2.76412893,\n",
              "         1.11157198,  1.50241305],\n",
              "       [ 0.71963658, -0.61779842, -0.26126598, ..., -0.31976555,\n",
              "        -0.54887752,  1.21619414],\n",
              "       [ 0.61789901,  0.08686091, -0.50818344, ..., -0.53058677,\n",
              "        -0.73021156,  1.20286133],\n",
              "       ...,\n",
              "       [-1.68815273, -1.32245776,  1.81667228, ..., -0.85667912,\n",
              "        -0.81115381, -2.17914801],\n",
              "       [-1.68815273, -1.32245776,  1.63614095, ..., -0.82524623,\n",
              "        -0.76223749, -2.19074948],\n",
              "       [-1.89162788, -1.40535885,  1.52731968, ..., -0.78312468,\n",
              "        -0.7264094 , -2.16038143]])"
            ]
          },
          "metadata": {},
          "execution_count": 99
        }
      ]
    },
    {
      "cell_type": "code",
      "source": [
        "#X_test =X_test/(np.linalg.norm(X_test))\n",
        "#X_test /=  X_test.sum(axis=1)[:,np.newaxis]\n",
        "\n",
        "#normalise the testing data using the mean and sigma of training data\n",
        "#assuming that the distribution of test data is unknown beforehand\n",
        "col = np.shape(X_train)[1]\n",
        "for i in range(col):\n",
        "  mean = np.mean(X_train_org[:,i]) #mean of train data\n",
        "  sigma = np.std(X_train_org[:,i]) #sigma of training data\n",
        "  X_test[:,i] = (X_test[:,i]-mean)/sigma #normalisation of test data assuming gaussian distribution same as train data"
      ],
      "metadata": {
        "id": "f1CRvkjvRho7"
      },
      "execution_count": 100,
      "outputs": []
    },
    {
      "cell_type": "code",
      "source": [
        "X_train.shape #verifying shape of train data"
      ],
      "metadata": {
        "colab": {
          "base_uri": "https://localhost:8080/"
        },
        "id": "V1MGG-aMYuD1",
        "outputId": "58253635-7fcd-4aef-d6cd-ad5c17717dc4"
      },
      "execution_count": 101,
      "outputs": [
        {
          "output_type": "execute_result",
          "data": {
            "text/plain": [
              "(4878, 21)"
            ]
          },
          "metadata": {},
          "execution_count": 101
        }
      ]
    },
    {
      "cell_type": "code",
      "source": [
        "X_test.shape #verifying shape of train data"
      ],
      "metadata": {
        "colab": {
          "base_uri": "https://localhost:8080/"
        },
        "id": "lejk9rbOa2om",
        "outputId": "0ef44754-97e8-42c1-871e-ccfdaa523f32"
      },
      "execution_count": 102,
      "outputs": [
        {
          "output_type": "execute_result",
          "data": {
            "text/plain": [
              "(1204, 21)"
            ]
          },
          "metadata": {},
          "execution_count": 102
        }
      ]
    },
    {
      "cell_type": "code",
      "source": [
        "X_test #visualisation of testing data after normalisation"
      ],
      "metadata": {
        "colab": {
          "base_uri": "https://localhost:8080/"
        },
        "id": "ENAVIYvRoZq7",
        "outputId": "a26fb156-c6a7-4fdb-a467-83e2f6215829"
      },
      "execution_count": 103,
      "outputs": [
        {
          "output_type": "execute_result",
          "data": {
            "text/plain": [
              "array([[ 0.78746163,  0.21121256, -0.25692459, ..., -0.17703665,\n",
              "         0.21798999,  1.20387231],\n",
              "       [ 0.55007396, -0.45199623, -0.04873147, ..., -0.20623906,\n",
              "        -0.62316598,  1.23376992],\n",
              "       [ 0.51616143,  0.29411365, -0.36614867, ..., -0.57362849,\n",
              "        -0.47290733,  1.18987795],\n",
              "       ...,\n",
              "       [-2.40031576, -2.98047972,  1.29171839, ...,  2.69368097,\n",
              "         2.86144548, -2.34995839],\n",
              "       [-2.06119051, -2.31727093,  1.43927059, ...,  0.37088948,\n",
              "         0.72616402, -2.26678834],\n",
              "       [-1.99336546, -1.36390831,  1.81004735, ..., -0.65957206,\n",
              "        -0.50646875, -2.1495399 ]])"
            ]
          },
          "metadata": {},
          "execution_count": 103
        }
      ]
    },
    {
      "cell_type": "code",
      "source": [
        "def Gradient_Descent2 (X, X_val, t, t_val, w, lamda, max_iter, epsilon, lr, lossfunc, gradfunc, trainlossfunc, vallossfunc): # See output format in 'return' statement\n",
        "    # YOUR CODE HERE\n",
        "\n",
        "    current_loss = 0\n",
        "    previous_loss = 0\n",
        "    for i in range(max_iter): #iterate upto maximum iterations\n",
        "      current_loss = lossfunc(X, t, w, lamda) #calculate present loss\n",
        "      #print(current_loss)\n",
        "      if (previous_loss and abs(current_loss - previous_loss) <= epsilon): #early stopping of training function if error terms are constant upto epsilon value\n",
        "        break\n",
        "      previous_loss = current_loss\n",
        "      w = w - lr * gradfunc(X, t, w, lamda) #updation of weights\n",
        "\n",
        "    w_final = w\n",
        "    \n",
        "    train_loss_final = trainlossfunc(X, t, w, lamda) #calculation of training loss\n",
        "\n",
        "    validation_loss_final = vallossfunc(X_val, t_val, w, lamda) #calculation of validation loss\n",
        "    validation_NRMSE = NRMSE_Metric(X_val, t_val, w, lamda) #calculation of NRMSE metric\n",
        "\n",
        "    #print(i)\n",
        "    return w_final, train_loss_final, validation_loss_final, validation_NRMSE #You should return variables structured like this.\n",
        "    raise NotImplementedError()\n",
        "    "
      ],
      "metadata": {
        "id": "3tqrTxZKoF0M"
      },
      "execution_count": 104,
      "outputs": []
    },
    {
      "cell_type": "markdown",
      "source": [
        "Part B - (3) Find the best lamda for MSE+lamda*L2(w) loss function. Plot training and validation RMSE vs. 1/lamda (1/lamda represents model complexity). Print weights, validation RMSE, validation NRMSE for the best lamda."
      ],
      "metadata": {
        "id": "34FjrRpkpJQg"
      }
    },
    {
      "cell_type": "code",
      "source": [
        "max_iter = 100\n",
        "\n",
        "#loss functions to be used for verifying accuracy of model\n",
        "lossfunc = L2_Loss #loss function\n",
        "gradfunc = L2_Gradient #gradient function\n",
        "trainlossfunc = MSE_Loss #training loss calculation function\n",
        "vallossfunc = MSE_Loss #validation loss calculation function\n",
        "\n",
        "lr = 0.1 #learning rate\n",
        "\n",
        "epsilon = 1e-10 #training stop error limit\n",
        "\n",
        "#lists for storing the loss and weights for plotting the graph\n",
        "train_loss = []\n",
        "val_loss = []\n",
        "l=[]\n",
        "weights = []\n",
        "\n",
        "#initialise weights of the Gradient Descent with unity vector\n",
        "w = np.ones(X_train.shape[1]+1)\n",
        "\n",
        "lamda = 0.5e-1 #regularisation coefficient initialisation\n",
        "\n",
        "for j in range(15): #iterate over lamda values\n",
        "\n",
        "  result = Gradient_Descent2(X_train, X_test, y_train, y_test, w, lamda, max_iter, epsilon, lr, lossfunc, gradfunc, trainlossfunc, vallossfunc)\n",
        "  #argument: X, X_val, t, t_val, w, lamda, max_iter, epsilon, lr, lossfunc, gradfunc\n",
        "  #result: w_final, train_loss_final, validation_loss_final, validation_NRMSE\n",
        "\n",
        " # print(f'lamda: {lamda} , training_loss: {pres_train_loss}, validation_loss:{pres_val_loss}')\n",
        "  print(f'lamda: {lamda} , training_loss: {np.sqrt(result[1])} , validation_loss: {np.sqrt(result[2])} , validation_NRMSE: {result[3]}, weights: ')\n",
        "\n",
        "  train_loss.append(np.sqrt(result[1]))\n",
        "  val_loss.append(np.sqrt(result[2]))\n",
        "  l.append(lamda)\n",
        "  lamda = lamda/1.5 #update lamda value\n",
        "  weights.append(result[0])\n",
        "\n",
        "fig, (ax1, ax2) = plt.subplots(2, sharex=True)\n",
        "fig.set_size_inches(18.5, 10.5)\n",
        "fig.suptitle('Training and Validation loss vs 1/lamda')\n",
        "ax1.plot(np.reciprocal(l), train_loss, label = 'training loss')\n",
        "ax2.plot(np.reciprocal(l),val_loss, label='validation loss')\n",
        "ax1.set_title('training loss')\n",
        "ax2.set_title('validation loss')\n",
        "ax1.set_xlabel('1/lamda')\n",
        "ax2.set_xlabel('1/lamda')\n",
        "ax1.set_ylabel('RMSE')\n",
        "ax2.set_ylabel('RMSE')\n",
        "# ax1.xlabel('1/lamda')\n",
        "# ax1.ylabel('Training Loss')\n",
        "# ax2.xlabel('1/lamda')\n",
        "# ax2.ylabel('Validation Loss')\n",
        "\n",
        "# plt.figure(figsize=(21,8))\n",
        "# #plt.plot(np.reciprocal(l), train_loss, label = 'training loss')\n",
        "# plt.plot(np.reciprocal(l),val_loss, label='validation loss')\n",
        "# plt.xlabel('1/lamda')\n",
        "# plt.ylabel('Loss')\n",
        "# plt.title('L2 loss')\n",
        "\n",
        "#plt.legend()\n",
        "plt.show()\n",
        "\n",
        "print(f'Minimum value of validation loss: {np.min(val_loss)}')\n",
        "\n"
      ],
      "metadata": {
        "colab": {
          "base_uri": "https://localhost:8080/",
          "height": 1000
        },
        "id": "mue2ikcPLoYU",
        "outputId": "9e731c86-283d-4419-bc5a-9443404e97f7"
      },
      "execution_count": 105,
      "outputs": [
        {
          "output_type": "stream",
          "name": "stdout",
          "text": [
            "lamda: 0.05 , training_loss: 1.402410935879989 , validation_loss: 1.4395860095013837 , validation_NRMSE: 0.47544027133220695, weights: \n",
            "lamda: 0.03333333333333333 , training_loss: 1.401684131269936 , validation_loss: 1.4393835773809394 , validation_NRMSE: 0.47537341573508723, weights: \n",
            "lamda: 0.022222222222222223 , training_loss: 1.4012510992390808 , validation_loss: 1.4393010441932692 , validation_NRMSE: 0.475346158175705, weights: \n",
            "lamda: 0.014814814814814815 , training_loss: 1.400986760593118 , validation_loss: 1.4392706167989493 , validation_NRMSE: 0.47533610916959085, weights: \n",
            "lamda: 0.009876543209876543 , training_loss: 1.4008217984591083 , validation_loss: 1.4392616544120769 , validation_NRMSE: 0.47533314923554154, weights: \n",
            "lamda: 0.006584362139917695 , training_loss: 1.400716962369786 , validation_loss: 1.4392608290954483 , validation_NRMSE: 0.4753328766649836, weights: \n",
            "lamda: 0.0043895747599451305 , training_loss: 1.40064939511064 , validation_loss: 1.4392626026240458 , validation_NRMSE: 0.4753334623937362, weights: \n",
            "lamda: 0.0029263831732967535 , training_loss: 1.4006053947223127 , validation_loss: 1.4392648281744032 , validation_NRMSE: 0.4753341974080103, weights: \n",
            "lamda: 0.001950922115531169 , training_loss: 1.400576528838338 , validation_loss: 1.4392667786159627 , validation_NRMSE: 0.47533484156435674, weights: \n",
            "lamda: 0.001300614743687446 , training_loss: 1.4005574938276222 , validation_loss: 1.4392682872705143 , validation_NRMSE: 0.4753353398153293, weights: \n",
            "lamda: 0.0008670764957916306 , training_loss: 1.4005448969792909 , validation_loss: 1.4392693859175463 , validation_NRMSE: 0.4753357026564792, weights: \n",
            "lamda: 0.0005780509971944203 , training_loss: 1.4005365405759818 , validation_loss: 1.4392701597086122 , validation_NRMSE: 0.4753359582101119, weights: \n",
            "lamda: 0.0003853673314629469 , training_loss: 1.4005309881100974 , validation_loss: 1.439270693975399 , validation_NRMSE: 0.47533613465802427, weights: \n",
            "lamda: 0.00025691155430863124 , training_loss: 1.4005272946829652 , validation_loss: 1.4392710583408437 , validation_NRMSE: 0.47533625499401305, weights: \n",
            "lamda: 0.0001712743695390875 , training_loss: 1.4005248360525053 , validation_loss: 1.4392713048921741 , validation_NRMSE: 0.47533633642050005, weights: \n"
          ]
        },
        {
          "output_type": "display_data",
          "data": {
            "image/png": "[encoded data removed]",
            "text/plain": [
              "<Figure size 1332x756 with 2 Axes>"
            ]
          },
          "metadata": {
            "needs_background": "light"
          }
        },
        {
          "output_type": "stream",
          "name": "stdout",
          "text": [
            "Minimum value of validation loss: 1.4392608290954483\n"
          ]
        }
      ]
    },
    {
      "cell_type": "code",
      "source": [
        "#Best lamda : 0.0065 obtimised where validation loss is minimum\n",
        "L2_lamda = 0.0065\n",
        "w = np.ones(X_train.shape[1]+1)\n",
        "\n",
        "#best weights\n",
        "result = Gradient_Descent2(X_train, X_test, y_train, y_test, w, L2_lamda, max_iter, epsilon, lr, lossfunc, gradfunc, trainlossfunc, vallossfunc)\n",
        "print( f'best lamda: 0.0065 , weights : {result[0]}')\n",
        "#print(result)\n",
        "L2_weights = result[0]"
      ],
      "metadata": {
        "colab": {
          "base_uri": "https://localhost:8080/"
        },
        "id": "R_rw-dDie2Rf",
        "outputId": "a5b8f544-a0c6-4ff0-d3f7-9886d0a49949"
      },
      "execution_count": 106,
      "outputs": [
        {
          "output_type": "stream",
          "name": "stdout",
          "text": [
            "best lamda: 0.0065 , weights : [ 4.65408835e-01  1.29687568e-01  3.31379086e-01 -8.66075864e-02\n",
            "  1.71999864e+00  3.28337916e-01 -4.17476118e-01  2.61556829e-01\n",
            " -3.12173947e-01 -2.44289642e-01 -1.22636860e-01 -2.39948239e-01\n",
            " -9.64908085e-02  2.00142244e-01  3.80681778e-03 -3.60166407e-02\n",
            " -5.40339203e-02 -1.23293521e-01 -2.29277370e-01  2.89500391e-01\n",
            "  5.56470542e-02  3.02822058e+01]\n"
          ]
        }
      ]
    },
    {
      "cell_type": "markdown",
      "source": [
        "Part 2 -(4) Find the best lamda for MSE+lamda*L1(w) loss function. Plot training and validation RMSE vs. 1/lamda (1/lamda represents model complexity). Print weights, validation RMSE, validation NRMSE for the best lamda."
      ],
      "metadata": {
        "id": "Nh_Msk-a2z8t"
      }
    },
    {
      "cell_type": "code",
      "source": [
        "max_iter = 100\n",
        "\n",
        "#loss functions to be used for verifying accuracy of model\n",
        "lossfunc = L1_Loss #loss function\n",
        "gradfunc = L1_Gradient #gradient function\n",
        "trainlossfunc = MSE_Loss #training loss calculation function\n",
        "vallossfunc = MSE_Loss #validation loss calculation function\n",
        "\n",
        "lr = 1e-1 #learning rate\n",
        "\n",
        "epsilon = 1e-10 #training stop error limit\n",
        "\n",
        "#lists for storing the loss and weights for plotting the graph\n",
        "train_loss = []\n",
        "val_loss = []\n",
        "l=[]\n",
        "weights = []\n",
        "\n",
        "#initialise weights of the Gradient Descent with unity vector\n",
        "w = np.ones(X_train.shape[1]+1)\n",
        "\n",
        "#regularisation coefficient initialisation\n",
        "lamda = 1\n",
        "\n",
        "for j in range(20): #iterate over lamda values\n",
        "\n",
        "  result = Gradient_Descent2(X_train, X_test, y_train, y_test, w, lamda, max_iter, epsilon, lr, lossfunc, gradfunc, trainlossfunc, vallossfunc)\n",
        "  #argument: X, X_val, t, t_val, w, lamda, max_iter, epsilon, lr, lossfunc, gradfunc\n",
        "  #result: w_final, train_loss_final, validation_loss_final, validation_NRMSE\n",
        "\n",
        " # print(f'lamda: {lamda} , training_loss: {pres_train_loss}, validation_loss:{pres_val_loss}')\n",
        "  print(f'lamda: {lamda} , training_loss: {np.sqrt(result[1])} , validation_loss: {np.sqrt(result[2])} , validation_NRMSE: {result[3]}')\n",
        "\n",
        "  train_loss.append(np.sqrt(result[1]))\n",
        "  val_loss.append(np.sqrt(result[2]))\n",
        "  l.append(lamda)\n",
        "  lamda = lamda/1.5 #update lamda factor\n",
        "  weights.append(result[0])\n",
        "\n",
        "#plot the validation vs 1/lamda curve\n",
        "# plt.plot(np.reciprocal(l), train_loss, label = 'training loss')\n",
        "# plt.plot(np.reciprocal(l),val_loss, label='validation loss')\n",
        "# plt.xlabel('1/lamda')\n",
        "# plt.ylabel('Loss')\n",
        "# plt.title('L1 loss')\n",
        "\n",
        "# plt.legend()\n",
        "# plt.show()\n",
        "fig, (ax1, ax2) = plt.subplots(2, sharex=True)\n",
        "fig.set_size_inches(18.5, 10.5)\n",
        "fig.suptitle('Training and Validation loss vs 1/lamda for L1 regularised Gradient Descent')\n",
        "ax1.plot(np.reciprocal(l), train_loss, label = 'training loss')\n",
        "ax2.plot(np.reciprocal(l),val_loss, label='validation loss')\n",
        "ax1.set_title('training loss')\n",
        "ax2.set_title('validation loss')\n",
        "ax1.set_xlabel('1/lamda')\n",
        "ax2.set_xlabel('1/lamda')\n",
        "ax1.set_ylabel('RMSE')\n",
        "ax2.set_ylabel('RMSE')\n",
        "\n",
        "plt.show()\n",
        "\n",
        "print(f'Minimum value of validation loss: {np.min(val_loss)}')\n",
        "\n"
      ],
      "metadata": {
        "colab": {
          "base_uri": "https://localhost:8080/",
          "height": 1000
        },
        "id": "6njfeJND2yCz",
        "outputId": "53a114ab-4a7c-420f-bf2a-be911b27f0e1"
      },
      "execution_count": 107,
      "outputs": [
        {
          "output_type": "stream",
          "name": "stdout",
          "text": [
            "lamda: 1 , training_loss: 1.607637456266449 , validation_loss: 1.604055031768816 , validation_NRMSE: 0.5297581071936812\n",
            "lamda: 0.6666666666666666 , training_loss: 1.5809641928064115 , validation_loss: 1.5730788244774512 , validation_NRMSE: 0.5195278491179236\n",
            "lamda: 0.4444444444444444 , training_loss: 1.5123240838378933 , validation_loss: 1.5193054300939788 , validation_NRMSE: 0.5017685509256697\n",
            "lamda: 0.2962962962962963 , training_loss: 1.477338746542951 , validation_loss: 1.485928391354795 , validation_NRMSE: 0.49074538992682154\n",
            "lamda: 0.19753086419753085 , training_loss: 1.4565048333014932 , validation_loss: 1.4736092688841573 , validation_NRMSE: 0.48667685432605995\n",
            "lamda: 0.1316872427983539 , training_loss: 1.435285753399746 , validation_loss: 1.4555291300377797 , validation_NRMSE: 0.4807056750688907\n",
            "lamda: 0.0877914951989026 , training_loss: 1.4228875819400104 , validation_loss: 1.4492558722059299 , validation_NRMSE: 0.478633857625524\n",
            "lamda: 0.05852766346593507 , training_loss: 1.4119378805287706 , validation_loss: 1.4432632920526225 , validation_NRMSE: 0.4766547372983855\n",
            "lamda: 0.03901844231062338 , training_loss: 1.4062799159239794 , validation_loss: 1.4401464030744193 , validation_NRMSE: 0.4756253479241288\n",
            "lamda: 0.026012294873748922 , training_loss: 1.4033731467318054 , validation_loss: 1.438900952390944 , validation_NRMSE: 0.4752140231356311\n",
            "lamda: 0.017341529915832616 , training_loss: 1.4019632620183915 , validation_loss: 1.4385841464752496 , validation_NRMSE: 0.47510939424265547\n",
            "lamda: 0.01156101994388841 , training_loss: 1.4012805355193882 , validation_loss: 1.4386130113493605 , validation_NRMSE: 0.4751189272080279\n",
            "lamda: 0.00770734662925894 , training_loss: 1.4009370135688506 , validation_loss: 1.4387176635950005 , validation_NRMSE: 0.47515348984737993\n",
            "lamda: 0.005138231086172627 , training_loss: 1.40075832644618 , validation_loss: 1.4387833584213825 , validation_NRMSE: 0.47517518633920053\n",
            "lamda: 0.0034254873907817516 , training_loss: 1.4006613802920254 , validation_loss: 1.4388925068075091 , validation_NRMSE: 0.475211233882017\n",
            "lamda: 0.0022836582605211676 , training_loss: 1.4006060205718913 , validation_loss: 1.4390112001982314 , validation_NRMSE: 0.4752504337752626\n",
            "lamda: 0.0015224388403474451 , training_loss: 1.4005736743351815 , validation_loss: 1.4390946295817786 , validation_NRMSE: 0.4752779873139112\n",
            "lamda: 0.0010149592268982968 , training_loss: 1.4005541371039214 , validation_loss: 1.439152160136909 , validation_NRMSE: 0.4752969874587866\n",
            "lamda: 0.0006766394845988645 , training_loss: 1.4005420131798072 , validation_loss: 1.4391913630516802 , validation_NRMSE: 0.47530993468410887\n",
            "lamda: 0.0004510929897325764 , training_loss: 1.4005343309733875 , validation_loss: 1.4392178757230225 , validation_NRMSE: 0.47531869080675354\n"
          ]
        },
        {
          "output_type": "display_data",
          "data": {
            "image/png": "[encoded data removed]",
            "text/plain": [
              "<Figure size 1332x756 with 2 Axes>"
            ]
          },
          "metadata": {
            "needs_background": "light"
          }
        },
        {
          "output_type": "stream",
          "name": "stdout",
          "text": [
            "Minimum value of validation loss: 1.4385841464752496\n"
          ]
        }
      ]
    },
    {
      "cell_type": "code",
      "source": [
        "#Best lamda : 0.017 \n",
        "L1_lamda = 0.017\n",
        "w = np.ones(X_train.shape[1]+1)\n",
        "\n",
        "#best weights\n",
        "result = Gradient_Descent2(X_train, X_test, y_train, y_test, w, L1_lamda, max_iter, epsilon, lr, lossfunc, gradfunc, trainlossfunc, vallossfunc)\n",
        "print( f'best lamda: 0.48 , weights : {result[0]}')\n",
        "#print(result)\n",
        "L1_weights = result[0]"
      ],
      "metadata": {
        "colab": {
          "base_uri": "https://localhost:8080/"
        },
        "id": "d3n-wr4h3GIj",
        "outputId": "20c190a2-88e5-4d77-e806-d0c2d69f0b6d"
      },
      "execution_count": 108,
      "outputs": [
        {
          "output_type": "stream",
          "name": "stdout",
          "text": [
            "best lamda: 0.48 , weights : [ 4.71420148e-01  1.26969417e-01  2.79920746e-01 -5.83297393e-02\n",
            "  1.71874062e+00  3.27487454e-01 -4.06225960e-01  2.50434216e-01\n",
            " -3.08566093e-01 -2.23781361e-01 -1.03768577e-01 -2.36591570e-01\n",
            " -8.69429863e-02  1.82934781e-01 -1.46207316e-03 -2.93924839e-02\n",
            " -4.39818330e-02 -1.20960913e-01 -1.92550158e-01  2.52050972e-01\n",
            "  4.38230508e-02  3.02822058e+01]\n"
          ]
        }
      ]
    },
    {
      "cell_type": "markdown",
      "source": [
        "Part B - (5) Find the best lamda for the pseudo-inv method. Plot training and validation RMSE vs. 1/lamda (1/lamda represents model complexity). Print weights, validation RMSE, validation NRMSE for the best lamda."
      ],
      "metadata": {
        "id": "TxvPdbG23X87"
      }
    },
    {
      "cell_type": "code",
      "source": [
        "#loss functions to be used for verifying accuracy of model\n",
        "trainlossfunc = MSE_Loss\n",
        "vallossfunc = MSE_Loss\n",
        "\n",
        "#lists for storing the loss and weights for plotting the graph\n",
        "train_loss = []\n",
        "val_loss = []\n",
        "l=[]\n",
        "weights = []\n",
        "\n",
        "#initialise weights of the Gradient Descent with unity vector\n",
        "w = np.ones(X_train.shape[1]+1)\n",
        "\n",
        "#regularisation coefficient initialisation\n",
        "lamda = 100\n",
        "\n",
        "for j in range(10): #iterate over lamda values\n",
        "\n",
        "  w = Pseudo_Inverse(X_train,y_train,lamda) #calculation of weights using Pseudo inverse algorithm\n",
        "\n",
        "  train_l = trainlossfunc(X_train, y_train, w, lamda) #calculation of training loss \n",
        "\n",
        "  validation_l = vallossfunc(X_test, y_test, w, lamda) #calculation of validation loss \n",
        "  validation_NRMSE = NRMSE_Metric(X_test, y_test, w, lamda) #calculation of validation NRMSE \n",
        "\n",
        " # print(f'lamda: {lamda} , training_loss: {pres_train_loss}, validation_loss:{pres_val_loss}')\n",
        "  print(f'lamda: {lamda} , training_loss: {np.sqrt(train_l)} , validation_loss: {np.sqrt(validation_l)} , validation_NRMSE: {validation_NRMSE}')\n",
        "\n",
        "  train_loss.append(np.sqrt(train_l))\n",
        "  val_loss.append(np.sqrt(validation_l))\n",
        "  l.append(lamda)\n",
        "  lamda = lamda/2 #updation of lamda value\n",
        "  weights.append(w)\n",
        "\n",
        "#plot loss vs 1/lamda curve\n",
        "# plt.plot(np.reciprocal(l), train_loss, label = 'training loss')\n",
        "# plt.plot(np.reciprocal(l),val_loss, label='validation loss')\n",
        "# plt.xlabel('1/lamda')\n",
        "# plt.ylabel('Loss')\n",
        "# plt.title('Pseudo inverse loss')\n",
        "\n",
        "# plt.legend()\n",
        "# plt.show()\n",
        "fig, (ax1, ax2) = plt.subplots(2, sharex=True)\n",
        "fig.set_size_inches(18.5, 10.5)\n",
        "fig.suptitle('Training and Validation loss vs 1/lamda for Psuedo Inverse method')\n",
        "ax1.plot(np.reciprocal(l), train_loss, label = 'training loss')\n",
        "ax2.plot(np.reciprocal(l),val_loss, label='validation loss')\n",
        "ax1.set_title('training loss')\n",
        "ax2.set_title('validation loss')\n",
        "ax1.set_xlabel('1/lamda')\n",
        "ax2.set_xlabel('1/lamda')\n",
        "ax1.set_ylabel('RMSE')\n",
        "ax2.set_ylabel('RMSE')\n",
        "\n",
        "plt.show()\n",
        "\n",
        "print(f'Minimum value of validation loss: {np.min(val_loss)}')\n"
      ],
      "metadata": {
        "id": "TBTa1bi-3ciK",
        "colab": {
          "base_uri": "https://localhost:8080/",
          "height": 908
        },
        "outputId": "2b5db553-3ab4-4f3c-8907-57b7696151a4"
      },
      "execution_count": 109,
      "outputs": [
        {
          "output_type": "stream",
          "name": "stdout",
          "text": [
            "lamda: 100 , training_loss: 1.5282276028290946 , validation_loss: 1.553735961432839 , validation_NRMSE: 0.5131396402901249\n",
            "lamda: 50.0 , training_loss: 1.4333121487225773 , validation_loss: 1.466596704151218 , validation_NRMSE: 0.4843608720524353\n",
            "lamda: 25.0 , training_loss: 1.4078535024877972 , validation_loss: 1.4449775319222833 , validation_NRMSE: 0.4772208852488246\n",
            "lamda: 12.5 , training_loss: 1.4013160412219077 , validation_loss: 1.440281010177563 , validation_NRMSE: 0.475669803508734\n",
            "lamda: 6.25 , training_loss: 1.3996636010415038 , validation_loss: 1.4395207995356119 , validation_NRMSE: 0.4754187349713258\n",
            "lamda: 3.125 , training_loss: 1.3992484699007672 , validation_loss: 1.4395437125558057 , validation_NRMSE: 0.47542630226669136\n",
            "lamda: 1.5625 , training_loss: 1.3991444497533556 , validation_loss: 1.4396565764202558 , validation_NRMSE: 0.4754635768900786\n",
            "lamda: 0.78125 , training_loss: 1.3991184160096584 , validation_loss: 1.4397384355518574 , validation_NRMSE: 0.4754906118344882\n",
            "lamda: 0.390625 , training_loss: 1.399111904045814 , validation_loss: 1.4397857309458069 , validation_NRMSE: 0.4755062316965761\n",
            "lamda: 0.1953125 , training_loss: 1.399110275617646 , validation_loss: 1.4398109712038285 , validation_NRMSE: 0.47551456758970306\n"
          ]
        },
        {
          "output_type": "display_data",
          "data": {
            "image/png": "[encoded data removed]",
            "text/plain": [
              "<Figure size 1332x756 with 2 Axes>"
            ]
          },
          "metadata": {
            "needs_background": "light"
          }
        },
        {
          "output_type": "stream",
          "name": "stdout",
          "text": [
            "Minimum value of validation loss: 1.4395207995356119\n"
          ]
        }
      ]
    },
    {
      "cell_type": "code",
      "source": [
        "#Best lamda : 6.25 \n",
        "PI_lamda = 6.25\n",
        "w = Pseudo_Inverse(X_train,y_train,lamda)\n",
        "print( f'best lamda: 6.25 , weights : {w}')\n",
        "#print(result)\n",
        "PI_weights = w"
      ],
      "metadata": {
        "colab": {
          "base_uri": "https://localhost:8080/"
        },
        "id": "fDupA3ZA5C4q",
        "outputId": "af577d6a-9958-4347-eefd-eefceabc9ad0"
      },
      "execution_count": 110,
      "outputs": [
        {
          "output_type": "stream",
          "name": "stdout",
          "text": [
            "best lamda: 6.25 , weights : [ 4.86730897e-01  1.41192441e-01  4.69639141e-01 -1.11410487e-01\n",
            "  1.88587144e+00  1.79334286e-01 -4.16527090e-01  2.46142174e-01\n",
            " -2.93176373e-01 -2.42969799e-01 -1.19038902e-01 -2.54245227e-01\n",
            " -1.02845539e-01  1.90270113e-01 -4.39005045e-03 -3.44288957e-02\n",
            " -6.22346236e-02 -1.27374511e-01 -2.22603893e-01  2.80086256e-01\n",
            "  4.14585920e-02  3.02815996e+01]\n"
          ]
        }
      ]
    },
    {
      "cell_type": "markdown",
      "source": [
        "# Write your observations and conclusions."
      ],
      "metadata": {
        "id": "5tYYOZy2u_UK"
      }
    },
    {
      "cell_type": "markdown",
      "source": [
        "Training of following 3 models is done: \n",
        "\n",
        "1) L1 regularise Gradient Descent\n",
        "\n",
        "2) L2 regularise Gradient Descent\n",
        "\n",
        "3) Psuedo inverse method\n",
        "\n",
        "\n",
        "\n",
        "---\n",
        "\n",
        "\n",
        "\n",
        "Following observations were done:\n",
        "\n",
        "1) Losses are a convext function of 1/lamda. Therefore it required to perform optimisation of the regularisation coefficient i.e. lamda for a given learning rate to reach minimum error in results.\n",
        "\n",
        "2) Learning rate should be optimised such that it is not too less and not too more. Low values of learning rate are not able to reach the minimum of loss function and results in large errors. Also, high values of the learning rate will lead to escaping of the minimum as the weight updation steps are too large.\n",
        "\n",
        "3) With the given training dataset, similar results of MSE and prediction were found. It is concluded that the performance of a certain ML model depends upon the extent of optimisation also and not just the model type."
      ],
      "metadata": {
        "id": "-qLjj92R6V7r"
      }
    },
    {
      "cell_type": "markdown",
      "source": [
        "Prediction"
      ],
      "metadata": {
        "id": "bEtdXPok30fm"
      }
    },
    {
      "cell_type": "code",
      "source": [
        "#read the testing data\n",
        "df2 = pd.read_csv(\"https://www.ee.iitb.ac.in/~asethi/Dump/TempTest.csv\")"
      ],
      "metadata": {
        "id": "42wRLCV84AVm"
      },
      "execution_count": 111,
      "outputs": []
    },
    {
      "cell_type": "code",
      "source": [
        "#converting the pandas dataframe to numpy format\n",
        "X_pred = df2.to_numpy()\n",
        "\n",
        "col = np.shape(X_train_org)[1] #columns in input vector\n",
        "\n",
        "#NOrmalisation of input vector using distribution parameters of training data (assuming similar distribution)\n",
        "for i in range(col):\n",
        "  mean = np.mean(X_train_org[:,i]) #mean of training data\n",
        "  sigma = np.std(X_train_org[:,i]) #sigma of training data\n",
        "  X_pred[:,i] = (X_pred[:,i]-mean)/sigma #normalisation of test data\n",
        "print(X_pred) #verify normalised input vector"
      ],
      "metadata": {
        "id": "YPxc3QlH4ITh",
        "colab": {
          "base_uri": "https://localhost:8080/"
        },
        "outputId": "5ea8de6e-d7e3-4bea-a563-b3253a4a09d9"
      },
      "execution_count": 112,
      "outputs": [
        {
          "output_type": "stream",
          "name": "stdout",
          "text": [
            "[[-0.63686444 -1.32245776  0.20180821 ...  2.76412893  1.11157198\n",
            "   1.50241305]\n",
            " [ 0.17703618 -0.86650172 -0.30588    ... -0.31976555 -0.54887752\n",
            "   1.21619414]\n",
            " [ 0.14312365 -0.24474348 -0.58779306 ... -0.53058677 -0.73021156\n",
            "   1.20286133]\n",
            " ...\n",
            " [-2.19684061 -2.48307313 -2.0250481  ... -0.85667912 -0.81115381\n",
            "  -2.08641317]\n",
            " [-2.19684061 -2.23436983 -2.2116866  ... -0.82524623 -0.76223749\n",
            "  -2.09785518]\n",
            " [-2.23075314 -2.35872148 -2.28823209 ... -0.78312468 -0.7264094\n",
            "  -2.06781282]]\n"
          ]
        }
      ]
    },
    {
      "cell_type": "markdown",
      "source": [
        "# 6) Read test data from: https://www.ee.iitb.ac.in/~asethi/Dump/TempTest.csv only. Do not use a local copy of the dataset. Predict its dependent (missing last column) using the model with the lowest MSE, RMSE, or NRMSE. Save it as a file RollNo1_RollNo2_1.csv.\n",
        "\n"
      ],
      "metadata": {
        "id": "lZ8GS4fMwWRp"
      }
    },
    {
      "cell_type": "code",
      "source": [
        "#Selection of best model based on MSE loss:\n",
        "\n",
        "L2model_mse = MSE_Loss (X_train, y_train, L2_weights, lamda =L2_lamda)\n",
        "L1model_mse = MSE_Loss (X_train, y_train, L1_weights, lamda =L1_lamda)\n",
        "PImodel_mse = MSE_Loss (X_train, y_train, PI_weights, lamda =PI_lamda)\n",
        "\n",
        "L2model_rmse = np.sqrt(MSE_Loss (X_train, y_train, L2_weights, lamda =L2_lamda))\n",
        "L1model_rmse = np.sqrt(MSE_Loss (X_train, y_train, L1_weights, lamda =L1_lamda))\n",
        "PImodel_rmse = np.sqrt(MSE_Loss (X_train, y_train, PI_weights, lamda =PI_lamda))\n",
        "\n",
        "L2model_nrmse = NRMSE_Metric (X_train, y_train, L2_weights, lamda =L2_lamda)\n",
        "L1model_nrmse = NRMSE_Metric (X_train, y_train, L1_weights, lamda =L1_lamda)\n",
        "PImodel_nrmse = NRMSE_Metric (X_train, y_train, PI_weights, lamda =PI_lamda)\n",
        "\n",
        "print( f\"MSE loss for=>  L2 model: {L2model_mse} , L1 model: {L1model_mse} , Psuedo inverse model: {PImodel_mse} \")\n",
        "print( f\"MSE loss for=>  L2 model: {L2model_rmse} , L1 model: {L1model_rmse} , Psuedo inverse model: {PImodel_rmse} \")\n",
        "print( f\"MSE loss for=>  L2 model: {L2model_nrmse} , L1 model: {L1model_nrmse} , Psuedo inverse model: {PImodel_nrmse} \")\n",
        "\n",
        "\n"
      ],
      "metadata": {
        "colab": {
          "base_uri": "https://localhost:8080/"
        },
        "id": "b0oA69XL0kQx",
        "outputId": "fdb9e610-006b-41e4-80ce-6d70633fb700"
      },
      "execution_count": 113,
      "outputs": [
        {
          "output_type": "stream",
          "name": "stdout",
          "text": [
            "MSE loss for=>  L2 model: 1.9620006362638838 , L1 model: 1.9653595561068384 , Psuedo inverse model: 1.957508424011496 \n",
            "MSE loss for=>  L2 model: 1.4007143307126846 , L1 model: 1.4019128204374331 , Psuedo inverse model: 1.3991098684561896 \n",
            "MSE loss for=>  L2 model: 0.44992898719814456 , L1 model: 0.4503139588202662 , Psuedo inverse model: 0.4494136115342894 \n"
          ]
        }
      ]
    },
    {
      "cell_type": "code",
      "source": [
        "y_pred = Prediction(X_pred , L2_weights) #prediction using L2 loss model\n",
        "#print(y_pred)\n",
        "#plt.plot(np.multiply(y_pred,factor[:,0]))\n",
        "print(f'max: {max(y_pred)}, min: {min(y_pred)}') #print range of prediction data\n",
        "plt.plot(y_pred) #plot prediction data\n"
      ],
      "metadata": {
        "colab": {
          "base_uri": "https://localhost:8080/",
          "height": 301
        },
        "id": "_i9WbWxF32MM",
        "outputId": "45903313-8401-43b8-cb0c-46b9d26aabf9"
      },
      "execution_count": 114,
      "outputs": [
        {
          "output_type": "stream",
          "name": "stdout",
          "text": [
            "max: 37.63773778480607, min: 20.63858033153997\n"
          ]
        },
        {
          "output_type": "execute_result",
          "data": {
            "text/plain": [
              "[<matplotlib.lines.Line2D at 0x7f9b848dd110>]"
            ]
          },
          "metadata": {},
          "execution_count": 114
        },
        {
          "output_type": "display_data",
          "data": {
            "image/png": "[encoded data removed]",
            "text/plain": [
              "<Figure size 432x288 with 1 Axes>"
            ]
          },
          "metadata": {
            "needs_background": "light"
          }
        }
      ]
    },
    {
      "cell_type": "markdown",
      "source": [
        "Prediction with L1 model"
      ],
      "metadata": {
        "id": "BKRAZIZIwdEv"
      }
    },
    {
      "cell_type": "code",
      "source": [
        "y_pred = Prediction(X_pred , L1_weights) #prediction using L1 loss model\n",
        "#print(y_pred)\n",
        "print(f'max: {max(y_pred)}, mine: {min(y_pred)}') #print range of prediction data\n",
        "plt.plot(y_pred) #plot prediction data"
      ],
      "metadata": {
        "colab": {
          "base_uri": "https://localhost:8080/",
          "height": 301
        },
        "id": "nkWjfd-ddyYC",
        "outputId": "1361f9e3-f0b9-49e5-e6e4-64a122dbe817"
      },
      "execution_count": 115,
      "outputs": [
        {
          "output_type": "stream",
          "name": "stdout",
          "text": [
            "max: 37.61123626190832, mine: 20.7854916314536\n"
          ]
        },
        {
          "output_type": "execute_result",
          "data": {
            "text/plain": [
              "[<matplotlib.lines.Line2D at 0x7f9b8484a750>]"
            ]
          },
          "metadata": {},
          "execution_count": 115
        },
        {
          "output_type": "display_data",
          "data": {
            "image/png": "[encoded data removed]",
            "text/plain": [
              "<Figure size 432x288 with 1 Axes>"
            ]
          },
          "metadata": {
            "needs_background": "light"
          }
        }
      ]
    },
    {
      "cell_type": "markdown",
      "source": [
        "Prediction with Pseudo Inverse (best model)"
      ],
      "metadata": {
        "id": "AHDauZf_xTy0"
      }
    },
    {
      "cell_type": "code",
      "source": [
        "y_pred = Prediction(X_pred , PI_weights) #prediction using Psuedo Inverse model\n",
        "#print(y_pred)\n",
        "print(f'max: {max(y_pred)}, min: {min(y_pred)}') #print range of prediction data\n",
        "plt.plot(y_pred) #plot prediction data"
      ],
      "metadata": {
        "colab": {
          "base_uri": "https://localhost:8080/",
          "height": 301
        },
        "id": "bIvjO0joxRGC",
        "outputId": "3437f8d1-1a01-4ca3-d7a5-4c3f82200f46"
      },
      "execution_count": 116,
      "outputs": [
        {
          "output_type": "stream",
          "name": "stdout",
          "text": [
            "max: 37.75948427999314, min: 20.57124467365489\n"
          ]
        },
        {
          "output_type": "execute_result",
          "data": {
            "text/plain": [
              "[<matplotlib.lines.Line2D at 0x7f9b847b9e50>]"
            ]
          },
          "metadata": {},
          "execution_count": 116
        },
        {
          "output_type": "display_data",
          "data": {
            "image/png": "[encoded data removed]",
            "text/plain": [
              "<Figure size 432x288 with 1 Axes>"
            ]
          },
          "metadata": {
            "needs_background": "light"
          }
        }
      ]
    },
    {
      "cell_type": "markdown",
      "source": [
        "Save to .csv file"
      ],
      "metadata": {
        "id": "J1Uyt83v-QoC"
      }
    },
    {
      "cell_type": "code",
      "source": [
        "pred_data_write = np.append(X_pred, np.transpose(y_pred[np.newaxis]), axis=1) # Appending the ouput values in the file.\n",
        "pred_data_write_df = pd.DataFrame(np.transpose(y_pred[np.newaxis])) # Creating dataframe from numpy array.\n",
        "h = train.columns.values # Getting the header from given link\n",
        "#pred_data_write_df.to_csv(\"213070056_213079013_1.csv\",header=['Next_Tmax'],index=False) # Writing dataframe to csv file."
      ],
      "metadata": {
        "id": "4MEhDQle-i3y"
      },
      "execution_count": 117,
      "outputs": []
    },
    {
      "cell_type": "markdown",
      "source": [
        "# Calculate R^2 value"
      ],
      "metadata": {
        "id": "qZUMGfqsvN0J"
      }
    },
    {
      "cell_type": "code",
      "source": [
        "#best model is the one with least MSE i.e. PI model\n",
        "Best_model_weights = PI_weights"
      ],
      "metadata": {
        "id": "oEGkiDf32AG_"
      },
      "execution_count": 118,
      "outputs": []
    },
    {
      "cell_type": "code",
      "source": [
        "ybar = np.mean(y_test) #mean of actual test output vector\n",
        "ycap = Prediction(X_test, Best_model_weights) #predicted output vector"
      ],
      "metadata": {
        "id": "-OJRj1USvNDY"
      },
      "execution_count": 119,
      "outputs": []
    },
    {
      "cell_type": "code",
      "source": [
        "#plot target and predicted data\n",
        "\n",
        "plt.plot(ycap, label = 'predicted')\n",
        "plt.plot(y_test, label='actual')\n",
        "\n",
        "plt.legend()\n",
        "plt.show()"
      ],
      "metadata": {
        "colab": {
          "base_uri": "https://localhost:8080/",
          "height": 265
        },
        "id": "FdDBPrGIwBQC",
        "outputId": "7f252cd9-6e7f-43e7-89af-29503268827c"
      },
      "execution_count": 120,
      "outputs": [
        {
          "output_type": "display_data",
          "data": {
            "image/png": "[encoded data removed]",
            "text/plain": [
              "<Figure size 432x288 with 1 Axes>"
            ]
          },
          "metadata": {
            "needs_background": "light"
          }
        }
      ]
    },
    {
      "cell_type": "code",
      "source": [
        "#coefficient of regression calculation\n",
        "#formula reference: https://stackoverflow.com/questions/40901445/function-to-calculate-r2-r-squared-in-r\n",
        "R_sq = np.sum((ycap - ybar)**2)/np.sum((y_test - ybar)**2)\n",
        "\n",
        "print(R_sq)"
      ],
      "metadata": {
        "colab": {
          "base_uri": "https://localhost:8080/"
        },
        "id": "CdW3X1Scxrl3",
        "outputId": "dc267884-7e04-4f60-acde-2f3d49fa9536"
      },
      "execution_count": 121,
      "outputs": [
        {
          "output_type": "stream",
          "name": "stdout",
          "text": [
            "0.7956836625152671\n"
          ]
        }
      ]
    },
    {
      "cell_type": "markdown",
      "source": [
        "Hence, the R^2 value is 0.795"
      ],
      "metadata": {
        "id": "fesbFL73uNDl"
      }
    },
    {
      "cell_type": "markdown",
      "metadata": {
        "deletable": false,
        "editable": false,
        "nbgrader": {
          "cell_type": "markdown",
          "checksum": "de7f27538e4ad9db84b046b2752843f1",
          "grade": false,
          "grade_id": "cell-8a98f665f9567cec",
          "locked": true,
          "schema_version": 3,
          "solution": false,
          "task": false
        },
        "id": "mDY46IBqgDlS"
      },
      "source": [
        "#**... Part 2 ends.**\n",
        "\n",
        "1. Write the name or roll no.s of friends from outside your group with whom you discussed the assignment here (no penalty for mere discussion without copying code): \n",
        " Rahul Singh (213070052)\n",
        "\n",
        "2. Write the links of sources on the internet referred here (no penalty for mere consultation without copying code): \n",
        "https://stackoverflow.com/questions/21494489/what-does-numpy-random-seed0-do\n",
        "https://stackoverflow.com/questions/21494489/what-does-numpy-random-seed0-do\n"
      ]
    },
    {
      "cell_type": "code",
      "source": [
        ""
      ],
      "metadata": {
        "id": "f-CPmtpTv6-J"
      },
      "execution_count": 121,
      "outputs": []
    }
  ],
  "metadata": {
    "kernelspec": {
      "display_name": "Python 3",
      "language": "python",
      "name": "python3"
    },
    "language_info": {
      "codemirror_mode": {
        "name": "ipython",
        "version": 3
      },
      "file_extension": ".py",
      "mimetype": "text/x-python",
      "name": "python",
      "nbconvert_exporter": "python",
      "pygments_lexer": "ipython3",
      "version": "3.8.3"
    },
    "colab": {
      "name": "Assignment_1_Instructions_Template_v3.ipynb",
      "provenance": [],
      "collapsed_sections": [
        "mszh1OSFgDlF",
        "LmYsuV4zgDlH",
        "2e1bNJ0sgDlI",
        "RhBNlLnagDlK",
        "9IblTtHtgDlO",
        "lgGDDh8xgDlQ"
      ]
    }
  },
  "nbformat": 4,
  "nbformat_minor": 0
}